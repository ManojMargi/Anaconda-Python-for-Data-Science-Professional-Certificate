{
 "cells": [
  {
   "cell_type": "code",
   "execution_count": 1,
   "metadata": {
    "id": "_H2qr4cEri4k"
   },
   "outputs": [],
   "source": [
    "import pandas as pd\n",
    "import matplotlib.pyplot as plt\n",
    "import seaborn as sns\n",
    "import numpy as np"
   ]
  },
  {
   "cell_type": "code",
   "execution_count": 2,
   "metadata": {
    "id": "E4vBuHw0rm5B"
   },
   "outputs": [],
   "source": [
    "avocado_info = pd.read_csv(\"avocado_info.csv\")"
   ]
  },
  {
   "cell_type": "code",
   "execution_count": 3,
   "metadata": {
    "colab": {
     "base_uri": "https://localhost:8080/",
     "height": 206
    },
    "executionInfo": {
     "elapsed": 278,
     "status": "ok",
     "timestamp": 1678320261949,
     "user": {
      "displayName": "Lavanya Vijayan",
      "userId": "09394087000910120547"
     },
     "user_tz": 480
    },
    "id": "c70ZQ0yprnwA",
    "outputId": "d6546327-9a49-45e7-c346-1cba9ecd7951"
   },
   "outputs": [
    {
     "data": {
      "text/html": [
       "<div>\n",
       "<style scoped>\n",
       "    .dataframe tbody tr th:only-of-type {\n",
       "        vertical-align: middle;\n",
       "    }\n",
       "\n",
       "    .dataframe tbody tr th {\n",
       "        vertical-align: top;\n",
       "    }\n",
       "\n",
       "    .dataframe thead th {\n",
       "        text-align: right;\n",
       "    }\n",
       "</style>\n",
       "<table border=\"1\" class=\"dataframe\">\n",
       "  <thead>\n",
       "    <tr style=\"text-align: right;\">\n",
       "      <th></th>\n",
       "      <th>Growth Duration</th>\n",
       "      <th>Fertilizer</th>\n",
       "    </tr>\n",
       "  </thead>\n",
       "  <tbody>\n",
       "    <tr>\n",
       "      <th>0</th>\n",
       "      <td>98</td>\n",
       "      <td>True</td>\n",
       "    </tr>\n",
       "    <tr>\n",
       "      <th>1</th>\n",
       "      <td>108</td>\n",
       "      <td>False</td>\n",
       "    </tr>\n",
       "    <tr>\n",
       "      <th>2</th>\n",
       "      <td>129</td>\n",
       "      <td>False</td>\n",
       "    </tr>\n",
       "    <tr>\n",
       "      <th>3</th>\n",
       "      <td>116</td>\n",
       "      <td>False</td>\n",
       "    </tr>\n",
       "    <tr>\n",
       "      <th>4</th>\n",
       "      <td>111</td>\n",
       "      <td>False</td>\n",
       "    </tr>\n",
       "  </tbody>\n",
       "</table>\n",
       "</div>"
      ],
      "text/plain": [
       "   Growth Duration  Fertilizer\n",
       "0               98        True\n",
       "1              108       False\n",
       "2              129       False\n",
       "3              116       False\n",
       "4              111       False"
      ]
     },
     "execution_count": 3,
     "metadata": {},
     "output_type": "execute_result"
    }
   ],
   "source": [
    "avocado_info.head()"
   ]
  },
  {
   "cell_type": "code",
   "execution_count": 4,
   "metadata": {
    "executionInfo": {
     "elapsed": 192,
     "status": "ok",
     "timestamp": 1678321644484,
     "user": {
      "displayName": "Lavanya Vijayan",
      "userId": "09394087000910120547"
     },
     "user_tz": 480
    },
    "id": "3G3X0ECArosb"
   },
   "outputs": [
    {
     "data": {
      "text/plain": [
       "0        98\n",
       "10      107\n",
       "11      105\n",
       "12      117\n",
       "13      112\n",
       "       ... \n",
       "1160     96\n",
       "1165    152\n",
       "1166     91\n",
       "1167    106\n",
       "1170    136\n",
       "Name: Growth Duration, Length: 459, dtype: int64"
      ]
     },
     "execution_count": 4,
     "metadata": {},
     "output_type": "execute_result"
    }
   ],
   "source": [
    "fertilized = avocado_info.loc[avocado_info[\"Fertilizer\"] == True, \"Growth Duration\"]\n",
    "\n",
    "not_fertilized = avocado_info.loc[avocado_info[\"Fertilizer\"] == False, \"Growth Duration\"]\n",
    "fertilized"
   ]
  },
  {
   "cell_type": "code",
   "execution_count": 5,
   "metadata": {
    "colab": {
     "base_uri": "https://localhost:8080/"
    },
    "executionInfo": {
     "elapsed": 2,
     "status": "ok",
     "timestamp": 1678321649215,
     "user": {
      "displayName": "Lavanya Vijayan",
      "userId": "09394087000910120547"
     },
     "user_tz": 480
    },
    "id": "YsXZmX_GrrmV",
    "outputId": "83da5677-679c-4fa3-b3d0-a32c974bf806"
   },
   "outputs": [
    {
     "data": {
      "text/plain": [
       "array([122, 120, 126,  88, 128, 128, 129,  78, 120, 130, 116, 119, 132,\n",
       "       109, 122, 121,  99, 121, 146, 115, 144, 113, 139, 124, 117, 141,\n",
       "       127, 132, 123, 100,  77, 101, 120, 116, 160,  98, 125, 133,  99,\n",
       "        96,  87, 112, 110, 144,  87, 113, 110, 104, 104, 124,  96, 127,\n",
       "       111, 128,  72, 117, 122, 119, 113,  97, 108, 109, 119, 120, 114,\n",
       "       105, 103, 107, 144,  82, 101, 116,  75, 123, 115, 121, 128, 108,\n",
       "        99, 122, 134,  93, 117, 154, 129,  98, 115,  81, 116, 121, 100,\n",
       "       101,  82, 109, 131, 123,  99,  95, 130, 119, 129, 115,  58,  99,\n",
       "       111, 104,  93, 101, 119, 118, 117, 108, 100, 119, 132, 123,  93,\n",
       "       106,  97, 141,  92, 143,  94, 130, 130, 131, 127, 117, 114, 116,\n",
       "        84,  90, 145, 119, 123, 122,  86, 115,  87,  98, 113, 121, 116,\n",
       "       123, 156, 126,  97, 137, 142, 141, 125, 103,  96, 119, 137, 104,\n",
       "       131, 119, 127,  95, 119, 125, 127, 105, 124,  88, 115,  87, 121,\n",
       "        99,  86,  85,  87, 113, 105, 160, 115, 122, 106, 133, 100,  97,\n",
       "       118, 100, 112, 112,  85,  93, 119, 105, 160, 121, 123,  96, 113,\n",
       "       119, 132,  91,  99,  98, 128, 120,  90, 103,  72, 125, 117, 104,\n",
       "       128, 109, 107, 124,  71,  97, 101, 125, 115,  96,  95,  81, 137,\n",
       "       117,  99, 119, 143, 119,  97, 119, 102, 133, 130, 102, 124, 109,\n",
       "        81, 104, 103, 126, 110,  88, 106,  96, 103, 116, 120, 145, 131,\n",
       "       123, 112, 145, 113, 136, 142,  97,  91, 141, 103, 113,  80,  77,\n",
       "        98,  94, 102,  87, 139, 153, 113,  99,  93,  75, 120, 122, 113,\n",
       "       120, 117, 119, 105, 118,  77, 110, 109, 104, 116, 106, 119, 110,\n",
       "       123, 106,  99, 138, 101, 119, 109, 101, 122, 115, 107, 132, 129,\n",
       "       127,  96, 102, 102, 112, 128, 121, 133, 131,  96, 132,  96,  72,\n",
       "       138, 105, 119, 115, 120, 118,  98,  91, 128,  75, 114, 101, 113,\n",
       "        98,  97,  90, 118, 128, 123,  99,  96,  92, 100, 117, 104, 150,\n",
       "       107, 131, 100, 100, 112, 129, 112,  71, 146, 137,  91, 139,  97,\n",
       "       100, 154, 130, 114, 132, 117, 117,  97, 117, 121, 122,  98, 150,\n",
       "        94, 138, 103, 117, 117, 136, 129, 155, 142, 150, 116, 141, 125,\n",
       "        86, 108, 118,  97, 122,  91, 145, 115, 125, 104, 116, 126, 123,\n",
       "       125,  85, 123,  87, 117, 144, 115,  82,  91,  98, 110, 128, 129,\n",
       "       112, 102,  96,  58, 111, 122, 144, 123, 117, 104, 142, 129, 130,\n",
       "        86,  92, 128, 115, 107,  85, 126,  87, 110, 134, 121, 126,  88,\n",
       "       112, 103, 117, 104, 109, 129, 152,  96, 119,  95, 122, 121, 153,\n",
       "       100, 143, 101, 123,  96, 123,  96, 131,  87,  99, 128,  99, 126,\n",
       "       114, 127, 109,  69])"
      ]
     },
     "execution_count": 5,
     "metadata": {},
     "output_type": "execute_result"
    }
   ],
   "source": [
    "np.random.choice(fertilized, size = len(fertilized))"
   ]
  },
  {
   "cell_type": "code",
   "execution_count": 6,
   "metadata": {
    "colab": {
     "base_uri": "https://localhost:8080/"
    },
    "executionInfo": {
     "elapsed": 197,
     "status": "ok",
     "timestamp": 1678321663649,
     "user": {
      "displayName": "Lavanya Vijayan",
      "userId": "09394087000910120547"
     },
     "user_tz": 480
    },
    "id": "5oigyooKxCS1",
    "outputId": "96a90e28-da3a-4ba2-de76-1d79ca683b5b"
   },
   "outputs": [
    {
     "data": {
      "text/plain": [
       "array([138, 108, 123,  55, 134, 138,  85, 138, 129, 123, 133, 134, 133,\n",
       "       102, 117, 115,  85, 136, 134, 116, 115, 140, 120, 158, 152,  63,\n",
       "        84, 131, 109, 110, 105, 119, 120, 114, 134, 102, 128, 120, 105,\n",
       "       119,  65, 122, 102, 133, 127, 120, 115, 124, 133, 158, 163, 111,\n",
       "        88, 122, 109, 117, 163, 127, 129, 117,  93, 101, 122,  80, 117,\n",
       "       114, 110, 105, 127, 113, 110, 111, 146, 105, 136, 110, 145, 105,\n",
       "       135, 122, 125, 155, 103, 100, 136, 130, 144, 143, 122, 137, 128,\n",
       "       143, 176, 166, 137, 123, 123, 113, 136, 136, 129, 144, 126, 143,\n",
       "       117, 113, 124, 151, 107, 129, 127, 137, 123, 124, 143, 129, 128,\n",
       "       128, 127, 146, 100, 125, 128, 148, 115,  80, 150, 131, 128, 124,\n",
       "       114, 129,  99, 137, 132, 129, 131,  93, 109, 136, 129, 124, 129,\n",
       "       128,  97, 139, 119,  97, 119, 137, 126, 123, 120, 106, 129,  99,\n",
       "       125, 103, 105, 145, 114, 123, 108, 144, 120, 140, 132, 111, 116,\n",
       "       129, 110, 126, 124, 100, 128, 121, 127, 125, 134, 132, 129, 124,\n",
       "       112, 112, 128, 104, 120, 110, 115, 110, 130, 131, 119, 109, 126,\n",
       "       111, 129, 147, 126, 142, 130,  97, 140, 119,  91, 123,  95, 114,\n",
       "       117, 102, 105, 127, 128, 132, 127, 116, 142, 125, 135, 123, 110,\n",
       "       130, 128, 106, 113,  99, 119, 126, 117, 146, 130, 140, 141, 129,\n",
       "       124, 119, 100, 113,  91, 144, 122, 126, 118, 164,  91, 127, 112,\n",
       "       122, 170, 105, 111, 120, 123, 147, 130, 118, 129, 121, 174, 100,\n",
       "       138, 136, 146, 102, 127, 125, 123, 128, 125, 135, 114, 127, 140,\n",
       "       139,  75, 116, 121, 139, 128, 155, 128, 124, 122, 116, 133, 112,\n",
       "       131, 117, 141, 119,  90,  98,  84,  99, 123, 129, 143, 112, 104,\n",
       "       114, 120,  93, 104, 111, 138, 120, 102, 110, 110, 147, 117, 144,\n",
       "        71, 146, 147, 145, 115,  78, 132, 143, 132, 112, 116, 112, 129,\n",
       "       126, 124, 125, 144, 103, 112, 115, 124, 127, 125,  90, 120, 120,\n",
       "       117, 109, 148, 150, 121, 113, 134, 139, 148, 123, 117, 109, 144,\n",
       "       126, 138, 143, 124, 139, 132, 122, 118, 142, 111, 129, 128, 110,\n",
       "       148, 122, 167, 147, 142, 124, 146, 120, 129, 110, 135, 136, 113,\n",
       "       111, 120, 127, 129, 116, 118, 132, 114, 147, 132, 118, 127, 128,\n",
       "        91, 120, 122, 147, 122, 125, 112, 173,  73, 102,  94, 131, 127,\n",
       "       128, 120, 134, 105, 124, 124, 113, 125, 115, 117, 130, 114, 154,\n",
       "       108, 128, 100, 132, 115, 127, 122, 110, 107, 155, 124, 126, 135,\n",
       "       112, 117, 136, 112, 149, 116, 127, 139, 130, 131, 140, 129, 108,\n",
       "       140, 129, 129, 104, 120, 136, 159, 120, 133,  98, 125, 103, 107,\n",
       "       142, 133, 124, 127, 112, 140, 165, 152,  98, 110, 126, 133, 130,\n",
       "       110, 122, 115, 119, 127, 130, 130, 114, 121, 127, 136, 102, 113,\n",
       "       132, 132, 118, 101, 118, 127, 126, 154, 125, 110, 152, 135, 169,\n",
       "       124, 127, 105, 124, 130, 114, 112, 124, 135, 138, 118, 110, 139,\n",
       "       122, 150, 101, 116, 138, 113, 131, 105, 123, 137, 127, 136,  89,\n",
       "       129, 116, 155, 144, 133, 117, 109, 112, 142, 114, 107, 110, 120,\n",
       "       129, 142, 123, 101, 102, 113, 131, 143, 117, 128, 117, 138, 113,\n",
       "       131, 123, 120, 145, 137, 112, 110, 123, 135,  55, 124, 138, 122,\n",
       "       149, 119, 105, 122, 142, 117, 132, 119, 142, 102, 138, 133, 165,\n",
       "       129, 116, 122, 112, 115, 129, 133,  99, 129, 128, 122, 112, 120,\n",
       "       120, 134, 121, 120, 140,  84, 115, 118, 112, 110, 129, 116, 131,\n",
       "       115, 127, 113, 112, 136, 117, 150, 107, 142, 129, 134, 120, 154,\n",
       "       124, 110, 126, 135, 124, 125, 112, 132, 120, 140, 125,  93, 155,\n",
       "       116, 111, 110, 136, 109, 117, 117, 144, 102, 105, 121,  84, 124,\n",
       "       119,  84, 129, 136, 105, 119, 117, 127, 128, 110, 125, 139, 136,\n",
       "       170, 110, 128, 123, 137, 112, 111, 135, 136, 144, 119, 118, 105,\n",
       "       154, 105, 113, 144, 141, 116, 129, 115, 132, 139, 135, 121, 126,\n",
       "       156, 133, 124, 118, 125, 104, 144, 102, 126, 105, 138, 112, 149,\n",
       "       112,  73, 136, 123, 127, 103, 129,  98, 158, 109, 135, 137, 130,\n",
       "       155, 122, 125, 155, 128, 136, 113, 112, 148, 128, 134, 117, 174])"
      ]
     },
     "execution_count": 6,
     "metadata": {},
     "output_type": "execute_result"
    }
   ],
   "source": [
    "np.random.choice(not_fertilized, size = len(not_fertilized))"
   ]
  },
  {
   "cell_type": "code",
   "execution_count": 7,
   "metadata": {
    "executionInfo": {
     "elapsed": 170,
     "status": "ok",
     "timestamp": 1678321715662,
     "user": {
      "displayName": "Lavanya Vijayan",
      "userId": "09394087000910120547"
     },
     "user_tz": 480
    },
    "id": "aznsDvgqtwVh"
   },
   "outputs": [],
   "source": [
    "def resample(orig_sample):\n",
    "      return np.random.choice(orig_sample, size = len(orig_sample))"
   ]
  },
  {
   "cell_type": "code",
   "execution_count": 8,
   "metadata": {
    "executionInfo": {
     "elapsed": 152,
     "status": "ok",
     "timestamp": 1678321766588,
     "user": {
      "displayName": "Lavanya Vijayan",
      "userId": "09394087000910120547"
     },
     "user_tz": 480
    },
    "id": "BM70rkqdt51e"
   },
   "outputs": [],
   "source": [
    "def bootstrap(orig_sample, reps):\n",
    "    means = np.array([])\n",
    "    for i in range(reps):\n",
    "        new_sample = resample(orig_sample)\n",
    "        new_mean = np.mean(new_sample)\n",
    "        means = np. append(means, new_mean)\n",
    "    return means"
   ]
  },
  {
   "cell_type": "code",
   "execution_count": 9,
   "metadata": {
    "executionInfo": {
     "elapsed": 1362,
     "status": "ok",
     "timestamp": 1678321742616,
     "user": {
      "displayName": "Lavanya Vijayan",
      "userId": "09394087000910120547"
     },
     "user_tz": 480
    },
    "id": "Tjg403CIuNmb"
   },
   "outputs": [],
   "source": [
    "fertilized_means = bootstrap(fertilized, 10000)\n",
    "\n",
    "not_fertilized_means = bootstrap(not_fertilized, 10000)\n",
    "\n",
    "estimates = fertilized_means - not_fertilized_means"
   ]
  },
  {
   "cell_type": "code",
   "execution_count": 10,
   "metadata": {
    "colab": {
     "base_uri": "https://localhost:8080/"
    },
    "executionInfo": {
     "elapsed": 151,
     "status": "ok",
     "timestamp": 1678321743758,
     "user": {
      "displayName": "Lavanya Vijayan",
      "userId": "09394087000910120547"
     },
     "user_tz": 480
    },
    "id": "yoFwzoO-uh7e",
    "outputId": "44a2ffc0-afa6-4626-bac5-0ec57e1e1862"
   },
   "outputs": [
    {
     "data": {
      "text/plain": [
       "array([-10.42620169,  -7.86470741,  -7.41070128, ...,  -9.0765879 ,\n",
       "        -8.23959352, -11.1431205 ])"
      ]
     },
     "execution_count": 10,
     "metadata": {},
     "output_type": "execute_result"
    }
   ],
   "source": [
    "estimates"
   ]
  },
  {
   "cell_type": "code",
   "execution_count": 11,
   "metadata": {
    "colab": {
     "base_uri": "https://localhost:8080/",
     "height": 265
    },
    "executionInfo": {
     "elapsed": 2093,
     "status": "ok",
     "timestamp": 1678321797441,
     "user": {
      "displayName": "Lavanya Vijayan",
      "userId": "09394087000910120547"
     },
     "user_tz": 480
    },
    "id": "gOFxd3kkujgO",
    "outputId": "dc393080-824b-4dfb-c30e-b1d8cc3b819d"
   },
   "outputs": [
    {
     "data": {
      "image/png": "[encoded data removed]",
      "text/plain": [
       "<Figure size 640x480 with 1 Axes>"
      ]
     },
     "metadata": {},
     "output_type": "display_data"
    }
   ],
   "source": [
    "sns.histplot(estimates)\n",
    "plt.show()"
   ]
  },
  {
   "cell_type": "code",
   "execution_count": 12,
   "metadata": {
    "colab": {
     "base_uri": "https://localhost:8080/"
    },
    "executionInfo": {
     "elapsed": 156,
     "status": "ok",
     "timestamp": 1678321801960,
     "user": {
      "displayName": "Lavanya Vijayan",
      "userId": "09394087000910120547"
     },
     "user_tz": 480
    },
    "id": "gFbIc4yPut9a",
    "outputId": "1169ca63-5f66-4035-9f7f-d9d9e6f3fa3f"
   },
   "outputs": [
    {
     "data": {
      "text/plain": [
       "(np.float64(-11.40278349101878), np.float64(-7.166261940673709))"
      ]
     },
     "execution_count": 12,
     "metadata": {},
     "output_type": "execute_result"
    }
   ],
   "source": [
    "(np.percentile(estimates, 2.5), np.percentile(estimates, 97.5))"
   ]
  },
  {
   "cell_type": "code",
   "execution_count": null,
   "metadata": {
    "id": "Jdpjglifxlim"
   },
   "outputs": [],
   "source": []
  }
 ],
 "metadata": {
  "colab": {
   "provenance": []
  },
  "kernelspec": {
   "display_name": "Python 3",
   "language": "python",
   "name": "python3"
  },
  "language_info": {
   "codemirror_mode": {
    "name": "ipython",
    "version": 3
   },
   "file_extension": ".py",
   "mimetype": "text/x-python",
   "name": "python",
   "nbconvert_exporter": "python",
   "pygments_lexer": "ipython3",
   "version": "3.13.0"
  }
 },
 "nbformat": 4,
 "nbformat_minor": 4
}
