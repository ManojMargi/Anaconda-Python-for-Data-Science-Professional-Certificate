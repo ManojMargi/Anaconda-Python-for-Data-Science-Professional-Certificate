{
 "cells": [
  {
   "cell_type": "code",
   "execution_count": 1,
   "metadata": {
    "executionInfo": {
     "elapsed": 1685,
     "status": "ok",
     "timestamp": 1678375326013,
     "user": {
      "displayName": "Lavanya Vijayan",
      "userId": "09394087000910120547"
     },
     "user_tz": 480
    },
    "id": "WKFK5_PV0tqq"
   },
   "outputs": [],
   "source": [
    "import pandas as pd\n",
    "import matplotlib.pyplot as plt\n",
    "import seaborn as sns\n",
    "from sklearn.model_selection import train_test_split\n",
    "from sklearn.neighbors import KNeighborsClassifier\n",
    "import numpy as np"
   ]
  },
  {
   "cell_type": "code",
   "execution_count": 3,
   "metadata": {
    "executionInfo": {
     "elapsed": 14,
     "status": "ok",
     "timestamp": 1678375326014,
     "user": {
      "displayName": "Lavanya Vijayan",
      "userId": "09394087000910120547"
     },
     "user_tz": 480
    },
    "id": "ry6IRCJJ03uQ"
   },
   "outputs": [],
   "source": [
    "data = pd.read_csv(\"ckd.csv\")"
   ]
  },
  {
   "cell_type": "code",
   "execution_count": 5,
   "metadata": {
    "colab": {
     "base_uri": "https://localhost:8080/",
     "height": 352
    },
    "executionInfo": {
     "elapsed": 13,
     "status": "ok",
     "timestamp": 1678375326014,
     "user": {
      "displayName": "Lavanya Vijayan",
      "userId": "09394087000910120547"
     },
     "user_tz": 480
    },
    "id": "7B5Ts4Cn04-z",
    "outputId": "3a5090a5-043d-4fac-ccf4-d26310c10a82"
   },
   "outputs": [
    {
     "data": {
      "text/html": [
       "<div>\n",
       "<style scoped>\n",
       "    .dataframe tbody tr th:only-of-type {\n",
       "        vertical-align: middle;\n",
       "    }\n",
       "\n",
       "    .dataframe tbody tr th {\n",
       "        vertical-align: top;\n",
       "    }\n",
       "\n",
       "    .dataframe thead th {\n",
       "        text-align: right;\n",
       "    }\n",
       "</style>\n",
       "<table border=\"1\" class=\"dataframe\">\n",
       "  <thead>\n",
       "    <tr style=\"text-align: right;\">\n",
       "      <th></th>\n",
       "      <th>Age</th>\n",
       "      <th>Blood Pressure</th>\n",
       "      <th>Specific Gravity</th>\n",
       "      <th>Albumin</th>\n",
       "      <th>Sugar</th>\n",
       "      <th>Red Blood Cells</th>\n",
       "      <th>Pus Cell</th>\n",
       "      <th>Pus Cell clumps</th>\n",
       "      <th>Bacteria</th>\n",
       "      <th>Blood Glucose Random</th>\n",
       "      <th>...</th>\n",
       "      <th>Packed Cell Volume</th>\n",
       "      <th>White Blood Cell Count</th>\n",
       "      <th>Red Blood Cell Count</th>\n",
       "      <th>Hypertension</th>\n",
       "      <th>Diabetes Mellitus</th>\n",
       "      <th>Coronary Artery Disease</th>\n",
       "      <th>Appetite</th>\n",
       "      <th>Pedal Edema</th>\n",
       "      <th>Anemia</th>\n",
       "      <th>Class</th>\n",
       "    </tr>\n",
       "  </thead>\n",
       "  <tbody>\n",
       "    <tr>\n",
       "      <th>0</th>\n",
       "      <td>48</td>\n",
       "      <td>70</td>\n",
       "      <td>1.005</td>\n",
       "      <td>4</td>\n",
       "      <td>0</td>\n",
       "      <td>normal</td>\n",
       "      <td>abnormal</td>\n",
       "      <td>present</td>\n",
       "      <td>notpresent</td>\n",
       "      <td>117</td>\n",
       "      <td>...</td>\n",
       "      <td>32</td>\n",
       "      <td>6700</td>\n",
       "      <td>3.9</td>\n",
       "      <td>yes</td>\n",
       "      <td>no</td>\n",
       "      <td>no</td>\n",
       "      <td>poor</td>\n",
       "      <td>yes</td>\n",
       "      <td>yes</td>\n",
       "      <td>1</td>\n",
       "    </tr>\n",
       "    <tr>\n",
       "      <th>1</th>\n",
       "      <td>53</td>\n",
       "      <td>90</td>\n",
       "      <td>1.020</td>\n",
       "      <td>2</td>\n",
       "      <td>0</td>\n",
       "      <td>abnormal</td>\n",
       "      <td>abnormal</td>\n",
       "      <td>present</td>\n",
       "      <td>notpresent</td>\n",
       "      <td>70</td>\n",
       "      <td>...</td>\n",
       "      <td>29</td>\n",
       "      <td>12100</td>\n",
       "      <td>3.7</td>\n",
       "      <td>yes</td>\n",
       "      <td>yes</td>\n",
       "      <td>no</td>\n",
       "      <td>poor</td>\n",
       "      <td>no</td>\n",
       "      <td>yes</td>\n",
       "      <td>1</td>\n",
       "    </tr>\n",
       "    <tr>\n",
       "      <th>2</th>\n",
       "      <td>63</td>\n",
       "      <td>70</td>\n",
       "      <td>1.010</td>\n",
       "      <td>3</td>\n",
       "      <td>0</td>\n",
       "      <td>abnormal</td>\n",
       "      <td>abnormal</td>\n",
       "      <td>present</td>\n",
       "      <td>notpresent</td>\n",
       "      <td>380</td>\n",
       "      <td>...</td>\n",
       "      <td>32</td>\n",
       "      <td>4500</td>\n",
       "      <td>3.8</td>\n",
       "      <td>yes</td>\n",
       "      <td>yes</td>\n",
       "      <td>no</td>\n",
       "      <td>poor</td>\n",
       "      <td>yes</td>\n",
       "      <td>no</td>\n",
       "      <td>1</td>\n",
       "    </tr>\n",
       "    <tr>\n",
       "      <th>3</th>\n",
       "      <td>68</td>\n",
       "      <td>80</td>\n",
       "      <td>1.010</td>\n",
       "      <td>3</td>\n",
       "      <td>2</td>\n",
       "      <td>normal</td>\n",
       "      <td>abnormal</td>\n",
       "      <td>present</td>\n",
       "      <td>present</td>\n",
       "      <td>157</td>\n",
       "      <td>...</td>\n",
       "      <td>16</td>\n",
       "      <td>11000</td>\n",
       "      <td>2.6</td>\n",
       "      <td>yes</td>\n",
       "      <td>yes</td>\n",
       "      <td>yes</td>\n",
       "      <td>poor</td>\n",
       "      <td>yes</td>\n",
       "      <td>no</td>\n",
       "      <td>1</td>\n",
       "    </tr>\n",
       "    <tr>\n",
       "      <th>4</th>\n",
       "      <td>61</td>\n",
       "      <td>80</td>\n",
       "      <td>1.015</td>\n",
       "      <td>2</td>\n",
       "      <td>0</td>\n",
       "      <td>abnormal</td>\n",
       "      <td>abnormal</td>\n",
       "      <td>notpresent</td>\n",
       "      <td>notpresent</td>\n",
       "      <td>173</td>\n",
       "      <td>...</td>\n",
       "      <td>24</td>\n",
       "      <td>9200</td>\n",
       "      <td>3.2</td>\n",
       "      <td>yes</td>\n",
       "      <td>yes</td>\n",
       "      <td>yes</td>\n",
       "      <td>poor</td>\n",
       "      <td>yes</td>\n",
       "      <td>yes</td>\n",
       "      <td>1</td>\n",
       "    </tr>\n",
       "  </tbody>\n",
       "</table>\n",
       "<p>5 rows × 25 columns</p>\n",
       "</div>"
      ],
      "text/plain": [
       "   Age  Blood Pressure  Specific Gravity  Albumin  Sugar Red Blood Cells  \\\n",
       "0   48              70             1.005        4      0          normal   \n",
       "1   53              90             1.020        2      0        abnormal   \n",
       "2   63              70             1.010        3      0        abnormal   \n",
       "3   68              80             1.010        3      2          normal   \n",
       "4   61              80             1.015        2      0        abnormal   \n",
       "\n",
       "   Pus Cell Pus Cell clumps    Bacteria  Blood Glucose Random  ...  \\\n",
       "0  abnormal         present  notpresent                   117  ...   \n",
       "1  abnormal         present  notpresent                    70  ...   \n",
       "2  abnormal         present  notpresent                   380  ...   \n",
       "3  abnormal         present     present                   157  ...   \n",
       "4  abnormal      notpresent  notpresent                   173  ...   \n",
       "\n",
       "   Packed Cell Volume  White Blood Cell Count  Red Blood Cell Count  \\\n",
       "0                  32                    6700                   3.9   \n",
       "1                  29                   12100                   3.7   \n",
       "2                  32                    4500                   3.8   \n",
       "3                  16                   11000                   2.6   \n",
       "4                  24                    9200                   3.2   \n",
       "\n",
       "   Hypertension  Diabetes Mellitus  Coronary Artery Disease  Appetite  \\\n",
       "0           yes                 no                       no      poor   \n",
       "1           yes                yes                       no      poor   \n",
       "2           yes                yes                       no      poor   \n",
       "3           yes                yes                      yes      poor   \n",
       "4           yes                yes                      yes      poor   \n",
       "\n",
       "   Pedal Edema Anemia Class  \n",
       "0          yes    yes     1  \n",
       "1           no    yes     1  \n",
       "2          yes     no     1  \n",
       "3          yes     no     1  \n",
       "4          yes    yes     1  \n",
       "\n",
       "[5 rows x 25 columns]"
      ]
     },
     "execution_count": 5,
     "metadata": {},
     "output_type": "execute_result"
    }
   ],
   "source": [
    "data.head()"
   ]
  },
  {
   "cell_type": "code",
   "execution_count": 7,
   "metadata": {
    "executionInfo": {
     "elapsed": 10,
     "status": "ok",
     "timestamp": 1678375326014,
     "user": {
      "displayName": "Lavanya Vijayan",
      "userId": "09394087000910120547"
     },
     "user_tz": 480
    },
    "id": "iENLITCG7kdE"
   },
   "outputs": [],
   "source": [
    "data = data.rename(columns={\"Blood Glucose Random\":\"Glucose\"})"
   ]
  },
  {
   "cell_type": "code",
   "execution_count": 9,
   "metadata": {
    "colab": {
     "base_uri": "https://localhost:8080/",
     "height": 352
    },
    "executionInfo": {
     "elapsed": 11,
     "status": "ok",
     "timestamp": 1678375326015,
     "user": {
      "displayName": "Lavanya Vijayan",
      "userId": "09394087000910120547"
     },
     "user_tz": 480
    },
    "id": "IRPKuf_-7yeH",
    "outputId": "ffd629cd-faca-4a64-b6f6-8594562b7998"
   },
   "outputs": [
    {
     "data": {
      "text/html": [
       "<div>\n",
       "<style scoped>\n",
       "    .dataframe tbody tr th:only-of-type {\n",
       "        vertical-align: middle;\n",
       "    }\n",
       "\n",
       "    .dataframe tbody tr th {\n",
       "        vertical-align: top;\n",
       "    }\n",
       "\n",
       "    .dataframe thead th {\n",
       "        text-align: right;\n",
       "    }\n",
       "</style>\n",
       "<table border=\"1\" class=\"dataframe\">\n",
       "  <thead>\n",
       "    <tr style=\"text-align: right;\">\n",
       "      <th></th>\n",
       "      <th>Age</th>\n",
       "      <th>Blood Pressure</th>\n",
       "      <th>Specific Gravity</th>\n",
       "      <th>Albumin</th>\n",
       "      <th>Sugar</th>\n",
       "      <th>Red Blood Cells</th>\n",
       "      <th>Pus Cell</th>\n",
       "      <th>Pus Cell clumps</th>\n",
       "      <th>Bacteria</th>\n",
       "      <th>Glucose</th>\n",
       "      <th>...</th>\n",
       "      <th>Packed Cell Volume</th>\n",
       "      <th>White Blood Cell Count</th>\n",
       "      <th>Red Blood Cell Count</th>\n",
       "      <th>Hypertension</th>\n",
       "      <th>Diabetes Mellitus</th>\n",
       "      <th>Coronary Artery Disease</th>\n",
       "      <th>Appetite</th>\n",
       "      <th>Pedal Edema</th>\n",
       "      <th>Anemia</th>\n",
       "      <th>Class</th>\n",
       "    </tr>\n",
       "  </thead>\n",
       "  <tbody>\n",
       "    <tr>\n",
       "      <th>0</th>\n",
       "      <td>48</td>\n",
       "      <td>70</td>\n",
       "      <td>1.005</td>\n",
       "      <td>4</td>\n",
       "      <td>0</td>\n",
       "      <td>normal</td>\n",
       "      <td>abnormal</td>\n",
       "      <td>present</td>\n",
       "      <td>notpresent</td>\n",
       "      <td>117</td>\n",
       "      <td>...</td>\n",
       "      <td>32</td>\n",
       "      <td>6700</td>\n",
       "      <td>3.9</td>\n",
       "      <td>yes</td>\n",
       "      <td>no</td>\n",
       "      <td>no</td>\n",
       "      <td>poor</td>\n",
       "      <td>yes</td>\n",
       "      <td>yes</td>\n",
       "      <td>1</td>\n",
       "    </tr>\n",
       "    <tr>\n",
       "      <th>1</th>\n",
       "      <td>53</td>\n",
       "      <td>90</td>\n",
       "      <td>1.020</td>\n",
       "      <td>2</td>\n",
       "      <td>0</td>\n",
       "      <td>abnormal</td>\n",
       "      <td>abnormal</td>\n",
       "      <td>present</td>\n",
       "      <td>notpresent</td>\n",
       "      <td>70</td>\n",
       "      <td>...</td>\n",
       "      <td>29</td>\n",
       "      <td>12100</td>\n",
       "      <td>3.7</td>\n",
       "      <td>yes</td>\n",
       "      <td>yes</td>\n",
       "      <td>no</td>\n",
       "      <td>poor</td>\n",
       "      <td>no</td>\n",
       "      <td>yes</td>\n",
       "      <td>1</td>\n",
       "    </tr>\n",
       "    <tr>\n",
       "      <th>2</th>\n",
       "      <td>63</td>\n",
       "      <td>70</td>\n",
       "      <td>1.010</td>\n",
       "      <td>3</td>\n",
       "      <td>0</td>\n",
       "      <td>abnormal</td>\n",
       "      <td>abnormal</td>\n",
       "      <td>present</td>\n",
       "      <td>notpresent</td>\n",
       "      <td>380</td>\n",
       "      <td>...</td>\n",
       "      <td>32</td>\n",
       "      <td>4500</td>\n",
       "      <td>3.8</td>\n",
       "      <td>yes</td>\n",
       "      <td>yes</td>\n",
       "      <td>no</td>\n",
       "      <td>poor</td>\n",
       "      <td>yes</td>\n",
       "      <td>no</td>\n",
       "      <td>1</td>\n",
       "    </tr>\n",
       "    <tr>\n",
       "      <th>3</th>\n",
       "      <td>68</td>\n",
       "      <td>80</td>\n",
       "      <td>1.010</td>\n",
       "      <td>3</td>\n",
       "      <td>2</td>\n",
       "      <td>normal</td>\n",
       "      <td>abnormal</td>\n",
       "      <td>present</td>\n",
       "      <td>present</td>\n",
       "      <td>157</td>\n",
       "      <td>...</td>\n",
       "      <td>16</td>\n",
       "      <td>11000</td>\n",
       "      <td>2.6</td>\n",
       "      <td>yes</td>\n",
       "      <td>yes</td>\n",
       "      <td>yes</td>\n",
       "      <td>poor</td>\n",
       "      <td>yes</td>\n",
       "      <td>no</td>\n",
       "      <td>1</td>\n",
       "    </tr>\n",
       "    <tr>\n",
       "      <th>4</th>\n",
       "      <td>61</td>\n",
       "      <td>80</td>\n",
       "      <td>1.015</td>\n",
       "      <td>2</td>\n",
       "      <td>0</td>\n",
       "      <td>abnormal</td>\n",
       "      <td>abnormal</td>\n",
       "      <td>notpresent</td>\n",
       "      <td>notpresent</td>\n",
       "      <td>173</td>\n",
       "      <td>...</td>\n",
       "      <td>24</td>\n",
       "      <td>9200</td>\n",
       "      <td>3.2</td>\n",
       "      <td>yes</td>\n",
       "      <td>yes</td>\n",
       "      <td>yes</td>\n",
       "      <td>poor</td>\n",
       "      <td>yes</td>\n",
       "      <td>yes</td>\n",
       "      <td>1</td>\n",
       "    </tr>\n",
       "  </tbody>\n",
       "</table>\n",
       "<p>5 rows × 25 columns</p>\n",
       "</div>"
      ],
      "text/plain": [
       "   Age  Blood Pressure  Specific Gravity  Albumin  Sugar Red Blood Cells  \\\n",
       "0   48              70             1.005        4      0          normal   \n",
       "1   53              90             1.020        2      0        abnormal   \n",
       "2   63              70             1.010        3      0        abnormal   \n",
       "3   68              80             1.010        3      2          normal   \n",
       "4   61              80             1.015        2      0        abnormal   \n",
       "\n",
       "   Pus Cell Pus Cell clumps    Bacteria  Glucose  ...  Packed Cell Volume  \\\n",
       "0  abnormal         present  notpresent      117  ...                  32   \n",
       "1  abnormal         present  notpresent       70  ...                  29   \n",
       "2  abnormal         present  notpresent      380  ...                  32   \n",
       "3  abnormal         present     present      157  ...                  16   \n",
       "4  abnormal      notpresent  notpresent      173  ...                  24   \n",
       "\n",
       "   White Blood Cell Count  Red Blood Cell Count  Hypertension  \\\n",
       "0                    6700                   3.9           yes   \n",
       "1                   12100                   3.7           yes   \n",
       "2                    4500                   3.8           yes   \n",
       "3                   11000                   2.6           yes   \n",
       "4                    9200                   3.2           yes   \n",
       "\n",
       "   Diabetes Mellitus  Coronary Artery Disease  Appetite  Pedal Edema Anemia  \\\n",
       "0                 no                       no      poor          yes    yes   \n",
       "1                yes                       no      poor           no    yes   \n",
       "2                yes                       no      poor          yes     no   \n",
       "3                yes                      yes      poor          yes     no   \n",
       "4                yes                      yes      poor          yes    yes   \n",
       "\n",
       "  Class  \n",
       "0     1  \n",
       "1     1  \n",
       "2     1  \n",
       "3     1  \n",
       "4     1  \n",
       "\n",
       "[5 rows x 25 columns]"
      ]
     },
     "execution_count": 9,
     "metadata": {},
     "output_type": "execute_result"
    }
   ],
   "source": [
    "data.head()"
   ]
  },
  {
   "cell_type": "code",
   "execution_count": 11,
   "metadata": {
    "colab": {
     "base_uri": "https://localhost:8080/"
    },
    "executionInfo": {
     "elapsed": 5059,
     "status": "ok",
     "timestamp": 1678375331064,
     "user": {
      "displayName": "Lavanya Vijayan",
      "userId": "09394087000910120547"
     },
     "user_tz": 480
    },
    "id": "2jNti7vy70gH",
    "outputId": "d4b8792a-cc6d-47fd-deae-db5415cbb69e"
   },
   "outputs": [
    {
     "data": {
      "text/plain": [
       "(158, 25)"
      ]
     },
     "execution_count": 11,
     "metadata": {},
     "output_type": "execute_result"
    }
   ],
   "source": [
    "data.shape"
   ]
  },
  {
   "cell_type": "code",
   "execution_count": 13,
   "metadata": {
    "colab": {
     "base_uri": "https://localhost:8080/"
    },
    "executionInfo": {
     "elapsed": 40,
     "status": "ok",
     "timestamp": 1678375331065,
     "user": {
      "displayName": "Lavanya Vijayan",
      "userId": "09394087000910120547"
     },
     "user_tz": 480
    },
    "id": "pnDEiN3S72W5",
    "outputId": "e558fccd-7f71-4969-bb45-52fd648cab4c"
   },
   "outputs": [
    {
     "name": "stdout",
     "output_type": "stream",
     "text": [
      "<class 'pandas.core.frame.DataFrame'>\n",
      "RangeIndex: 158 entries, 0 to 157\n",
      "Data columns (total 25 columns):\n",
      " #   Column                   Non-Null Count  Dtype  \n",
      "---  ------                   --------------  -----  \n",
      " 0   Age                      158 non-null    int64  \n",
      " 1   Blood Pressure           158 non-null    int64  \n",
      " 2   Specific Gravity         158 non-null    float64\n",
      " 3   Albumin                  158 non-null    int64  \n",
      " 4   Sugar                    158 non-null    int64  \n",
      " 5   Red Blood Cells          158 non-null    object \n",
      " 6   Pus Cell                 158 non-null    object \n",
      " 7   Pus Cell clumps          158 non-null    object \n",
      " 8   Bacteria                 158 non-null    object \n",
      " 9   Glucose                  158 non-null    int64  \n",
      " 10  Blood Urea               158 non-null    int64  \n",
      " 11  Serum Creatinine         158 non-null    float64\n",
      " 12  Sodium                   158 non-null    int64  \n",
      " 13  Potassium                158 non-null    float64\n",
      " 14  Hemoglobin               158 non-null    float64\n",
      " 15  Packed Cell Volume       158 non-null    int64  \n",
      " 16  White Blood Cell Count   158 non-null    int64  \n",
      " 17  Red Blood Cell Count     158 non-null    float64\n",
      " 18  Hypertension             158 non-null    object \n",
      " 19  Diabetes Mellitus        158 non-null    object \n",
      " 20  Coronary Artery Disease  158 non-null    object \n",
      " 21  Appetite                 158 non-null    object \n",
      " 22  Pedal Edema              158 non-null    object \n",
      " 23  Anemia                   158 non-null    object \n",
      " 24  Class                    158 non-null    int64  \n",
      "dtypes: float64(5), int64(10), object(10)\n",
      "memory usage: 31.0+ KB\n"
     ]
    }
   ],
   "source": [
    "data.info()"
   ]
  },
  {
   "cell_type": "code",
   "execution_count": 15,
   "metadata": {
    "colab": {
     "base_uri": "https://localhost:8080/"
    },
    "executionInfo": {
     "elapsed": 38,
     "status": "ok",
     "timestamp": 1678375331065,
     "user": {
      "displayName": "Lavanya Vijayan",
      "userId": "09394087000910120547"
     },
     "user_tz": 480
    },
    "id": "2yYBB_KO74bA",
    "outputId": "09a8e907-8a81-4b98-af4e-93f757559c9c"
   },
   "outputs": [
    {
     "data": {
      "text/plain": [
       "Class\n",
       "0    0.727848\n",
       "1    0.272152\n",
       "Name: proportion, dtype: float64"
      ]
     },
     "execution_count": 15,
     "metadata": {},
     "output_type": "execute_result"
    }
   ],
   "source": [
    "data[\"Class\"].value_counts(normalize=True)"
   ]
  },
  {
   "cell_type": "code",
   "execution_count": 17,
   "metadata": {
    "colab": {
     "base_uri": "https://localhost:8080/",
     "height": 279
    },
    "executionInfo": {
     "elapsed": 35,
     "status": "ok",
     "timestamp": 1678375331065,
     "user": {
      "displayName": "Lavanya Vijayan",
      "userId": "09394087000910120547"
     },
     "user_tz": 480
    },
    "id": "LQj-A22Q76pc",
    "outputId": "3a0228b4-e2d8-47de-e2d9-972fea6c5f61"
   },
   "outputs": [
    {
     "data": {
      "image/png": "[encoded data removed]",
      "text/plain": [
       "<Figure size 640x480 with 1 Axes>"
      ]
     },
     "metadata": {},
     "output_type": "display_data"
    }
   ],
   "source": [
    "sns.scatterplot(x=\"Hemoglobin\", y=\"Glucose\", data=data, hue=\"Class\")\n",
    "plt.show()"
   ]
  },
  {
   "cell_type": "code",
   "execution_count": 19,
   "metadata": {
    "colab": {
     "base_uri": "https://localhost:8080/",
     "height": 279
    },
    "executionInfo": {
     "elapsed": 35,
     "status": "ok",
     "timestamp": 1678375331066,
     "user": {
      "displayName": "Lavanya Vijayan",
      "userId": "09394087000910120547"
     },
     "user_tz": 480
    },
    "id": "qh8tLj4v79EW",
    "outputId": "abe679d1-918e-4b71-c095-ed91e4a931ff"
   },
   "outputs": [
    {
     "data": {
      "image/png": "[encoded data removed]",
      "text/plain": [
       "<Figure size 640x480 with 1 Axes>"
      ]
     },
     "metadata": {},
     "output_type": "display_data"
    }
   ],
   "source": [
    "sns.scatterplot(x=\"White Blood Cell Count\", y=\"Glucose\", data=data, hue=\"Class\")\n",
    "plt.show()"
   ]
  },
  {
   "cell_type": "code",
   "execution_count": 21,
   "metadata": {
    "colab": {
     "base_uri": "https://localhost:8080/"
    },
    "executionInfo": {
     "elapsed": 34,
     "status": "ok",
     "timestamp": 1678375331066,
     "user": {
      "displayName": "Lavanya Vijayan",
      "userId": "09394087000910120547"
     },
     "user_tz": 480
    },
    "id": "GgRxSyqZ7_C-",
    "outputId": "f732434d-946a-48c2-f55c-d56f10e9108c"
   },
   "outputs": [
    {
     "data": {
      "text/plain": [
       "0    1\n",
       "1    1\n",
       "2    1\n",
       "3    1\n",
       "4    1\n",
       "Name: Class, dtype: int64"
      ]
     },
     "execution_count": 21,
     "metadata": {},
     "output_type": "execute_result"
    }
   ],
   "source": [
    "y = data[\"Class\"]\n",
    "y.head()"
   ]
  },
  {
   "cell_type": "code",
   "execution_count": 23,
   "metadata": {
    "colab": {
     "base_uri": "https://localhost:8080/"
    },
    "executionInfo": {
     "elapsed": 32,
     "status": "ok",
     "timestamp": 1678375331066,
     "user": {
      "displayName": "Lavanya Vijayan",
      "userId": "09394087000910120547"
     },
     "user_tz": 480
    },
    "id": "NiuOKsLk8Blx",
    "outputId": "c6ad4667-135b-4d8f-e558-f32df5235a53"
   },
   "outputs": [
    {
     "name": "stdout",
     "output_type": "stream",
     "text": [
      "<class 'pandas.core.frame.DataFrame'>\n",
      "RangeIndex: 158 entries, 0 to 157\n",
      "Data columns (total 24 columns):\n",
      " #   Column                   Non-Null Count  Dtype  \n",
      "---  ------                   --------------  -----  \n",
      " 0   Age                      158 non-null    int64  \n",
      " 1   Blood Pressure           158 non-null    int64  \n",
      " 2   Specific Gravity         158 non-null    float64\n",
      " 3   Albumin                  158 non-null    int64  \n",
      " 4   Sugar                    158 non-null    int64  \n",
      " 5   Red Blood Cells          158 non-null    object \n",
      " 6   Pus Cell                 158 non-null    object \n",
      " 7   Pus Cell clumps          158 non-null    object \n",
      " 8   Bacteria                 158 non-null    object \n",
      " 9   Glucose                  158 non-null    int64  \n",
      " 10  Blood Urea               158 non-null    int64  \n",
      " 11  Serum Creatinine         158 non-null    float64\n",
      " 12  Sodium                   158 non-null    int64  \n",
      " 13  Potassium                158 non-null    float64\n",
      " 14  Hemoglobin               158 non-null    float64\n",
      " 15  Packed Cell Volume       158 non-null    int64  \n",
      " 16  White Blood Cell Count   158 non-null    int64  \n",
      " 17  Red Blood Cell Count     158 non-null    float64\n",
      " 18  Hypertension             158 non-null    object \n",
      " 19  Diabetes Mellitus        158 non-null    object \n",
      " 20  Coronary Artery Disease  158 non-null    object \n",
      " 21  Appetite                 158 non-null    object \n",
      " 22  Pedal Edema              158 non-null    object \n",
      " 23  Anemia                   158 non-null    object \n",
      "dtypes: float64(5), int64(9), object(10)\n",
      "memory usage: 29.8+ KB\n"
     ]
    }
   ],
   "source": [
    "X = data.drop(columns=\"Class\")\n",
    "X.head()\n",
    "X.info()"
   ]
  },
  {
   "cell_type": "code",
   "execution_count": 25,
   "metadata": {
    "colab": {
     "base_uri": "https://localhost:8080/",
     "height": 268
    },
    "executionInfo": {
     "elapsed": 31,
     "status": "ok",
     "timestamp": 1678375331067,
     "user": {
      "displayName": "Lavanya Vijayan",
      "userId": "09394087000910120547"
     },
     "user_tz": 480
    },
    "id": "tEFKOZ4n8Dna",
    "outputId": "2f3c4a3c-9fa7-4afe-9b77-4c063b61e1e4"
   },
   "outputs": [
    {
     "data": {
      "text/html": [
       "<div>\n",
       "<style scoped>\n",
       "    .dataframe tbody tr th:only-of-type {\n",
       "        vertical-align: middle;\n",
       "    }\n",
       "\n",
       "    .dataframe tbody tr th {\n",
       "        vertical-align: top;\n",
       "    }\n",
       "\n",
       "    .dataframe thead th {\n",
       "        text-align: right;\n",
       "    }\n",
       "</style>\n",
       "<table border=\"1\" class=\"dataframe\">\n",
       "  <thead>\n",
       "    <tr style=\"text-align: right;\">\n",
       "      <th></th>\n",
       "      <th>Age</th>\n",
       "      <th>Blood Pressure</th>\n",
       "      <th>Specific Gravity</th>\n",
       "      <th>Albumin</th>\n",
       "      <th>Sugar</th>\n",
       "      <th>Glucose</th>\n",
       "      <th>Blood Urea</th>\n",
       "      <th>Serum Creatinine</th>\n",
       "      <th>Sodium</th>\n",
       "      <th>Potassium</th>\n",
       "      <th>Hemoglobin</th>\n",
       "      <th>Packed Cell Volume</th>\n",
       "      <th>White Blood Cell Count</th>\n",
       "      <th>Red Blood Cell Count</th>\n",
       "    </tr>\n",
       "  </thead>\n",
       "  <tbody>\n",
       "    <tr>\n",
       "      <th>0</th>\n",
       "      <td>48</td>\n",
       "      <td>70</td>\n",
       "      <td>1.005</td>\n",
       "      <td>4</td>\n",
       "      <td>0</td>\n",
       "      <td>117</td>\n",
       "      <td>56</td>\n",
       "      <td>3.8</td>\n",
       "      <td>111</td>\n",
       "      <td>2.5</td>\n",
       "      <td>11.2</td>\n",
       "      <td>32</td>\n",
       "      <td>6700</td>\n",
       "      <td>3.9</td>\n",
       "    </tr>\n",
       "    <tr>\n",
       "      <th>1</th>\n",
       "      <td>53</td>\n",
       "      <td>90</td>\n",
       "      <td>1.020</td>\n",
       "      <td>2</td>\n",
       "      <td>0</td>\n",
       "      <td>70</td>\n",
       "      <td>107</td>\n",
       "      <td>7.2</td>\n",
       "      <td>114</td>\n",
       "      <td>3.7</td>\n",
       "      <td>9.5</td>\n",
       "      <td>29</td>\n",
       "      <td>12100</td>\n",
       "      <td>3.7</td>\n",
       "    </tr>\n",
       "    <tr>\n",
       "      <th>2</th>\n",
       "      <td>63</td>\n",
       "      <td>70</td>\n",
       "      <td>1.010</td>\n",
       "      <td>3</td>\n",
       "      <td>0</td>\n",
       "      <td>380</td>\n",
       "      <td>60</td>\n",
       "      <td>2.7</td>\n",
       "      <td>131</td>\n",
       "      <td>4.2</td>\n",
       "      <td>10.8</td>\n",
       "      <td>32</td>\n",
       "      <td>4500</td>\n",
       "      <td>3.8</td>\n",
       "    </tr>\n",
       "    <tr>\n",
       "      <th>3</th>\n",
       "      <td>68</td>\n",
       "      <td>80</td>\n",
       "      <td>1.010</td>\n",
       "      <td>3</td>\n",
       "      <td>2</td>\n",
       "      <td>157</td>\n",
       "      <td>90</td>\n",
       "      <td>4.1</td>\n",
       "      <td>130</td>\n",
       "      <td>6.4</td>\n",
       "      <td>5.6</td>\n",
       "      <td>16</td>\n",
       "      <td>11000</td>\n",
       "      <td>2.6</td>\n",
       "    </tr>\n",
       "    <tr>\n",
       "      <th>4</th>\n",
       "      <td>61</td>\n",
       "      <td>80</td>\n",
       "      <td>1.015</td>\n",
       "      <td>2</td>\n",
       "      <td>0</td>\n",
       "      <td>173</td>\n",
       "      <td>148</td>\n",
       "      <td>3.9</td>\n",
       "      <td>135</td>\n",
       "      <td>5.2</td>\n",
       "      <td>7.7</td>\n",
       "      <td>24</td>\n",
       "      <td>9200</td>\n",
       "      <td>3.2</td>\n",
       "    </tr>\n",
       "  </tbody>\n",
       "</table>\n",
       "</div>"
      ],
      "text/plain": [
       "   Age  Blood Pressure  Specific Gravity  Albumin  Sugar  Glucose  Blood Urea  \\\n",
       "0   48              70             1.005        4      0      117          56   \n",
       "1   53              90             1.020        2      0       70         107   \n",
       "2   63              70             1.010        3      0      380          60   \n",
       "3   68              80             1.010        3      2      157          90   \n",
       "4   61              80             1.015        2      0      173         148   \n",
       "\n",
       "   Serum Creatinine  Sodium  Potassium  Hemoglobin  Packed Cell Volume  \\\n",
       "0               3.8     111        2.5        11.2                  32   \n",
       "1               7.2     114        3.7         9.5                  29   \n",
       "2               2.7     131        4.2        10.8                  32   \n",
       "3               4.1     130        6.4         5.6                  16   \n",
       "4               3.9     135        5.2         7.7                  24   \n",
       "\n",
       "   White Blood Cell Count  Red Blood Cell Count  \n",
       "0                    6700                   3.9  \n",
       "1                   12100                   3.7  \n",
       "2                    4500                   3.8  \n",
       "3                   11000                   2.6  \n",
       "4                    9200                   3.2  "
      ]
     },
     "execution_count": 25,
     "metadata": {},
     "output_type": "execute_result"
    }
   ],
   "source": [
    "X = X[[\"Age\", \"Blood Pressure\", \"Specific Gravity\", \"Albumin\", \"Sugar\", \"Glucose\", \"Blood Urea\", \"Serum Creatinine\", \"Sodium\", \"Potassium\", \"Hemoglobin\",\n",
    "      \"Packed Cell Volume\", \"White Blood Cell Count\", \"Red Blood Cell Count\"]]\n",
    "X.head()"
   ]
  },
  {
   "cell_type": "code",
   "execution_count": 27,
   "metadata": {
    "executionInfo": {
     "elapsed": 30,
     "status": "ok",
     "timestamp": 1678375331067,
     "user": {
      "displayName": "Lavanya Vijayan",
      "userId": "09394087000910120547"
     },
     "user_tz": 480
    },
    "id": "InwPMOdr8Fy5"
   },
   "outputs": [],
   "source": [
    "X_train, X_test, y_train, y_test = train_test_split(X, y, test_size = 0.25, random_state=0)"
   ]
  },
  {
   "cell_type": "code",
   "execution_count": 29,
   "metadata": {
    "colab": {
     "base_uri": "https://localhost:8080/",
     "height": 268
    },
    "executionInfo": {
     "elapsed": 30,
     "status": "ok",
     "timestamp": 1678375331067,
     "user": {
      "displayName": "Lavanya Vijayan",
      "userId": "09394087000910120547"
     },
     "user_tz": 480
    },
    "id": "osm8MCb-8HRX",
    "outputId": "ddfba53b-30a6-419e-ad73-c2af5265a1db"
   },
   "outputs": [
    {
     "data": {
      "text/html": [
       "<div>\n",
       "<style scoped>\n",
       "    .dataframe tbody tr th:only-of-type {\n",
       "        vertical-align: middle;\n",
       "    }\n",
       "\n",
       "    .dataframe tbody tr th {\n",
       "        vertical-align: top;\n",
       "    }\n",
       "\n",
       "    .dataframe thead th {\n",
       "        text-align: right;\n",
       "    }\n",
       "</style>\n",
       "<table border=\"1\" class=\"dataframe\">\n",
       "  <thead>\n",
       "    <tr style=\"text-align: right;\">\n",
       "      <th></th>\n",
       "      <th>Age</th>\n",
       "      <th>Blood Pressure</th>\n",
       "      <th>Specific Gravity</th>\n",
       "      <th>Albumin</th>\n",
       "      <th>Sugar</th>\n",
       "      <th>Glucose</th>\n",
       "      <th>Blood Urea</th>\n",
       "      <th>Serum Creatinine</th>\n",
       "      <th>Sodium</th>\n",
       "      <th>Potassium</th>\n",
       "      <th>Hemoglobin</th>\n",
       "      <th>Packed Cell Volume</th>\n",
       "      <th>White Blood Cell Count</th>\n",
       "      <th>Red Blood Cell Count</th>\n",
       "    </tr>\n",
       "  </thead>\n",
       "  <tbody>\n",
       "    <tr>\n",
       "      <th>27</th>\n",
       "      <td>21</td>\n",
       "      <td>90</td>\n",
       "      <td>1.010</td>\n",
       "      <td>4</td>\n",
       "      <td>0</td>\n",
       "      <td>107</td>\n",
       "      <td>40</td>\n",
       "      <td>1.7</td>\n",
       "      <td>125</td>\n",
       "      <td>3.5</td>\n",
       "      <td>8.3</td>\n",
       "      <td>23</td>\n",
       "      <td>12400</td>\n",
       "      <td>3.9</td>\n",
       "    </tr>\n",
       "    <tr>\n",
       "      <th>111</th>\n",
       "      <td>43</td>\n",
       "      <td>60</td>\n",
       "      <td>1.025</td>\n",
       "      <td>0</td>\n",
       "      <td>0</td>\n",
       "      <td>108</td>\n",
       "      <td>25</td>\n",
       "      <td>1.0</td>\n",
       "      <td>144</td>\n",
       "      <td>5.0</td>\n",
       "      <td>17.8</td>\n",
       "      <td>43</td>\n",
       "      <td>7200</td>\n",
       "      <td>5.5</td>\n",
       "    </tr>\n",
       "    <tr>\n",
       "      <th>110</th>\n",
       "      <td>22</td>\n",
       "      <td>60</td>\n",
       "      <td>1.025</td>\n",
       "      <td>0</td>\n",
       "      <td>0</td>\n",
       "      <td>97</td>\n",
       "      <td>18</td>\n",
       "      <td>1.2</td>\n",
       "      <td>138</td>\n",
       "      <td>4.3</td>\n",
       "      <td>13.5</td>\n",
       "      <td>42</td>\n",
       "      <td>7900</td>\n",
       "      <td>6.4</td>\n",
       "    </tr>\n",
       "    <tr>\n",
       "      <th>85</th>\n",
       "      <td>43</td>\n",
       "      <td>80</td>\n",
       "      <td>1.025</td>\n",
       "      <td>0</td>\n",
       "      <td>0</td>\n",
       "      <td>81</td>\n",
       "      <td>46</td>\n",
       "      <td>0.6</td>\n",
       "      <td>135</td>\n",
       "      <td>4.9</td>\n",
       "      <td>13.9</td>\n",
       "      <td>48</td>\n",
       "      <td>6900</td>\n",
       "      <td>4.9</td>\n",
       "    </tr>\n",
       "    <tr>\n",
       "      <th>18</th>\n",
       "      <td>52</td>\n",
       "      <td>90</td>\n",
       "      <td>1.015</td>\n",
       "      <td>4</td>\n",
       "      <td>3</td>\n",
       "      <td>224</td>\n",
       "      <td>166</td>\n",
       "      <td>5.6</td>\n",
       "      <td>133</td>\n",
       "      <td>47.0</td>\n",
       "      <td>8.1</td>\n",
       "      <td>23</td>\n",
       "      <td>5000</td>\n",
       "      <td>2.9</td>\n",
       "    </tr>\n",
       "  </tbody>\n",
       "</table>\n",
       "</div>"
      ],
      "text/plain": [
       "     Age  Blood Pressure  Specific Gravity  Albumin  Sugar  Glucose  \\\n",
       "27    21              90             1.010        4      0      107   \n",
       "111   43              60             1.025        0      0      108   \n",
       "110   22              60             1.025        0      0       97   \n",
       "85    43              80             1.025        0      0       81   \n",
       "18    52              90             1.015        4      3      224   \n",
       "\n",
       "     Blood Urea  Serum Creatinine  Sodium  Potassium  Hemoglobin  \\\n",
       "27           40               1.7     125        3.5         8.3   \n",
       "111          25               1.0     144        5.0        17.8   \n",
       "110          18               1.2     138        4.3        13.5   \n",
       "85           46               0.6     135        4.9        13.9   \n",
       "18          166               5.6     133       47.0         8.1   \n",
       "\n",
       "     Packed Cell Volume  White Blood Cell Count  Red Blood Cell Count  \n",
       "27                   23                   12400                   3.9  \n",
       "111                  43                    7200                   5.5  \n",
       "110                  42                    7900                   6.4  \n",
       "85                   48                    6900                   4.9  \n",
       "18                   23                    5000                   2.9  "
      ]
     },
     "execution_count": 29,
     "metadata": {},
     "output_type": "execute_result"
    }
   ],
   "source": [
    "X_train.head()"
   ]
  },
  {
   "cell_type": "code",
   "execution_count": 31,
   "metadata": {
    "colab": {
     "base_uri": "https://localhost:8080/",
     "height": 268
    },
    "executionInfo": {
     "elapsed": 30,
     "status": "ok",
     "timestamp": 1678375331068,
     "user": {
      "displayName": "Lavanya Vijayan",
      "userId": "09394087000910120547"
     },
     "user_tz": 480
    },
    "id": "lScVrNXJ8JvR",
    "outputId": "317a3ad9-24f3-49ed-c407-3243fe670570"
   },
   "outputs": [
    {
     "data": {
      "text/html": [
       "<div>\n",
       "<style scoped>\n",
       "    .dataframe tbody tr th:only-of-type {\n",
       "        vertical-align: middle;\n",
       "    }\n",
       "\n",
       "    .dataframe tbody tr th {\n",
       "        vertical-align: top;\n",
       "    }\n",
       "\n",
       "    .dataframe thead th {\n",
       "        text-align: right;\n",
       "    }\n",
       "</style>\n",
       "<table border=\"1\" class=\"dataframe\">\n",
       "  <thead>\n",
       "    <tr style=\"text-align: right;\">\n",
       "      <th></th>\n",
       "      <th>Age</th>\n",
       "      <th>Blood Pressure</th>\n",
       "      <th>Specific Gravity</th>\n",
       "      <th>Albumin</th>\n",
       "      <th>Sugar</th>\n",
       "      <th>Glucose</th>\n",
       "      <th>Blood Urea</th>\n",
       "      <th>Serum Creatinine</th>\n",
       "      <th>Sodium</th>\n",
       "      <th>Potassium</th>\n",
       "      <th>Hemoglobin</th>\n",
       "      <th>Packed Cell Volume</th>\n",
       "      <th>White Blood Cell Count</th>\n",
       "      <th>Red Blood Cell Count</th>\n",
       "    </tr>\n",
       "  </thead>\n",
       "  <tbody>\n",
       "    <tr>\n",
       "      <th>7</th>\n",
       "      <td>73</td>\n",
       "      <td>70</td>\n",
       "      <td>1.005</td>\n",
       "      <td>0</td>\n",
       "      <td>0</td>\n",
       "      <td>70</td>\n",
       "      <td>32</td>\n",
       "      <td>0.9</td>\n",
       "      <td>125</td>\n",
       "      <td>4.0</td>\n",
       "      <td>10.0</td>\n",
       "      <td>29</td>\n",
       "      <td>18900</td>\n",
       "      <td>3.5</td>\n",
       "    </tr>\n",
       "    <tr>\n",
       "      <th>44</th>\n",
       "      <td>23</td>\n",
       "      <td>80</td>\n",
       "      <td>1.025</td>\n",
       "      <td>0</td>\n",
       "      <td>0</td>\n",
       "      <td>70</td>\n",
       "      <td>36</td>\n",
       "      <td>1.0</td>\n",
       "      <td>150</td>\n",
       "      <td>4.6</td>\n",
       "      <td>17.0</td>\n",
       "      <td>52</td>\n",
       "      <td>9800</td>\n",
       "      <td>5.0</td>\n",
       "    </tr>\n",
       "    <tr>\n",
       "      <th>113</th>\n",
       "      <td>29</td>\n",
       "      <td>80</td>\n",
       "      <td>1.020</td>\n",
       "      <td>0</td>\n",
       "      <td>0</td>\n",
       "      <td>83</td>\n",
       "      <td>49</td>\n",
       "      <td>0.9</td>\n",
       "      <td>139</td>\n",
       "      <td>3.3</td>\n",
       "      <td>17.5</td>\n",
       "      <td>40</td>\n",
       "      <td>9900</td>\n",
       "      <td>4.7</td>\n",
       "    </tr>\n",
       "    <tr>\n",
       "      <th>120</th>\n",
       "      <td>47</td>\n",
       "      <td>60</td>\n",
       "      <td>1.020</td>\n",
       "      <td>0</td>\n",
       "      <td>0</td>\n",
       "      <td>117</td>\n",
       "      <td>22</td>\n",
       "      <td>1.2</td>\n",
       "      <td>138</td>\n",
       "      <td>3.5</td>\n",
       "      <td>13.0</td>\n",
       "      <td>45</td>\n",
       "      <td>5200</td>\n",
       "      <td>5.6</td>\n",
       "    </tr>\n",
       "    <tr>\n",
       "      <th>63</th>\n",
       "      <td>30</td>\n",
       "      <td>80</td>\n",
       "      <td>1.025</td>\n",
       "      <td>0</td>\n",
       "      <td>0</td>\n",
       "      <td>96</td>\n",
       "      <td>25</td>\n",
       "      <td>0.5</td>\n",
       "      <td>144</td>\n",
       "      <td>4.8</td>\n",
       "      <td>13.8</td>\n",
       "      <td>42</td>\n",
       "      <td>9000</td>\n",
       "      <td>4.5</td>\n",
       "    </tr>\n",
       "  </tbody>\n",
       "</table>\n",
       "</div>"
      ],
      "text/plain": [
       "     Age  Blood Pressure  Specific Gravity  Albumin  Sugar  Glucose  \\\n",
       "7     73              70             1.005        0      0       70   \n",
       "44    23              80             1.025        0      0       70   \n",
       "113   29              80             1.020        0      0       83   \n",
       "120   47              60             1.020        0      0      117   \n",
       "63    30              80             1.025        0      0       96   \n",
       "\n",
       "     Blood Urea  Serum Creatinine  Sodium  Potassium  Hemoglobin  \\\n",
       "7            32               0.9     125        4.0        10.0   \n",
       "44           36               1.0     150        4.6        17.0   \n",
       "113          49               0.9     139        3.3        17.5   \n",
       "120          22               1.2     138        3.5        13.0   \n",
       "63           25               0.5     144        4.8        13.8   \n",
       "\n",
       "     Packed Cell Volume  White Blood Cell Count  Red Blood Cell Count  \n",
       "7                    29                   18900                   3.5  \n",
       "44                   52                    9800                   5.0  \n",
       "113                  40                    9900                   4.7  \n",
       "120                  45                    5200                   5.6  \n",
       "63                   42                    9000                   4.5  "
      ]
     },
     "execution_count": 31,
     "metadata": {},
     "output_type": "execute_result"
    }
   ],
   "source": [
    "X_test.head()"
   ]
  },
  {
   "cell_type": "code",
   "execution_count": 33,
   "metadata": {
    "colab": {
     "base_uri": "https://localhost:8080/"
    },
    "executionInfo": {
     "elapsed": 29,
     "status": "ok",
     "timestamp": 1678375331068,
     "user": {
      "displayName": "Lavanya Vijayan",
      "userId": "09394087000910120547"
     },
     "user_tz": 480
    },
    "id": "CF76hPvZ8LBv",
    "outputId": "b38f9b91-a37e-4847-ba8d-e52abae56c61"
   },
   "outputs": [
    {
     "data": {
      "text/plain": [
       "27     1\n",
       "111    0\n",
       "110    0\n",
       "85     0\n",
       "18     1\n",
       "Name: Class, dtype: int64"
      ]
     },
     "execution_count": 33,
     "metadata": {},
     "output_type": "execute_result"
    }
   ],
   "source": [
    "y_train.head()"
   ]
  },
  {
   "cell_type": "code",
   "execution_count": 35,
   "metadata": {
    "colab": {
     "base_uri": "https://localhost:8080/"
    },
    "executionInfo": {
     "elapsed": 26,
     "status": "ok",
     "timestamp": 1678375331068,
     "user": {
      "displayName": "Lavanya Vijayan",
      "userId": "09394087000910120547"
     },
     "user_tz": 480
    },
    "id": "BFO_ehvm8MdV",
    "outputId": "9bdb3468-b0bf-4b91-f8b6-41f19052ba7c"
   },
   "outputs": [
    {
     "data": {
      "text/plain": [
       "7      1\n",
       "44     0\n",
       "113    0\n",
       "120    0\n",
       "63     0\n",
       "Name: Class, dtype: int64"
      ]
     },
     "execution_count": 35,
     "metadata": {},
     "output_type": "execute_result"
    }
   ],
   "source": [
    "y_test.head()"
   ]
  },
  {
   "cell_type": "code",
   "execution_count": 37,
   "metadata": {
    "colab": {
     "base_uri": "https://localhost:8080/"
    },
    "executionInfo": {
     "elapsed": 25,
     "status": "ok",
     "timestamp": 1678375331069,
     "user": {
      "displayName": "Lavanya Vijayan",
      "userId": "09394087000910120547"
     },
     "user_tz": 480
    },
    "id": "EUt4uanD8Nu6",
    "outputId": "70c0affe-fd7a-422b-defd-5524f297439e"
   },
   "outputs": [
    {
     "data": {
      "text/plain": [
       "((118, 14), (40, 14), (118,), (40,))"
      ]
     },
     "execution_count": 37,
     "metadata": {},
     "output_type": "execute_result"
    }
   ],
   "source": [
    "X_train.shape, X_test.shape, y_train.shape, y_test.shape"
   ]
  },
  {
   "cell_type": "code",
   "execution_count": 39,
   "metadata": {
    "executionInfo": {
     "elapsed": 24,
     "status": "ok",
     "timestamp": 1678375331069,
     "user": {
      "displayName": "Lavanya Vijayan",
      "userId": "09394087000910120547"
     },
     "user_tz": 480
    },
    "id": "-4Fxbb648Pdq"
   },
   "outputs": [],
   "source": [
    "knn = KNeighborsClassifier(n_neighbors=3)"
   ]
  },
  {
   "cell_type": "code",
   "execution_count": 41,
   "metadata": {
    "colab": {
     "base_uri": "https://localhost:8080/",
     "height": 75
    },
    "executionInfo": {
     "elapsed": 24,
     "status": "ok",
     "timestamp": 1678375331069,
     "user": {
      "displayName": "Lavanya Vijayan",
      "userId": "09394087000910120547"
     },
     "user_tz": 480
    },
    "id": "ul0DJoAm8Q2f",
    "outputId": "55d90db5-82e1-4809-a67d-b1b6043e126c"
   },
   "outputs": [
    {
     "data": {
      "text/html": [
       "<style>#sk-container-id-1 {color: black;}#sk-container-id-1 pre{padding: 0;}#sk-container-id-1 div.sk-toggleable {background-color: white;}#sk-container-id-1 label.sk-toggleable__label {cursor: pointer;display: block;width: 100%;margin-bottom: 0;padding: 0.3em;box-sizing: border-box;text-align: center;}#sk-container-id-1 label.sk-toggleable__label-arrow:before {content: \"▸\";float: left;margin-right: 0.25em;color: #696969;}#sk-container-id-1 label.sk-toggleable__label-arrow:hover:before {color: black;}#sk-container-id-1 div.sk-estimator:hover label.sk-toggleable__label-arrow:before {color: black;}#sk-container-id-1 div.sk-toggleable__content {max-height: 0;max-width: 0;overflow: hidden;text-align: left;background-color: #f0f8ff;}#sk-container-id-1 div.sk-toggleable__content pre {margin: 0.2em;color: black;border-radius: 0.25em;background-color: #f0f8ff;}#sk-container-id-1 input.sk-toggleable__control:checked~div.sk-toggleable__content {max-height: 200px;max-width: 100%;overflow: auto;}#sk-container-id-1 input.sk-toggleable__control:checked~label.sk-toggleable__label-arrow:before {content: \"▾\";}#sk-container-id-1 div.sk-estimator input.sk-toggleable__control:checked~label.sk-toggleable__label {background-color: #d4ebff;}#sk-container-id-1 div.sk-label input.sk-toggleable__control:checked~label.sk-toggleable__label {background-color: #d4ebff;}#sk-container-id-1 input.sk-hidden--visually {border: 0;clip: rect(1px 1px 1px 1px);clip: rect(1px, 1px, 1px, 1px);height: 1px;margin: -1px;overflow: hidden;padding: 0;position: absolute;width: 1px;}#sk-container-id-1 div.sk-estimator {font-family: monospace;background-color: #f0f8ff;border: 1px dotted black;border-radius: 0.25em;box-sizing: border-box;margin-bottom: 0.5em;}#sk-container-id-1 div.sk-estimator:hover {background-color: #d4ebff;}#sk-container-id-1 div.sk-parallel-item::after {content: \"\";width: 100%;border-bottom: 1px solid gray;flex-grow: 1;}#sk-container-id-1 div.sk-label:hover label.sk-toggleable__label {background-color: #d4ebff;}#sk-container-id-1 div.sk-serial::before {content: \"\";position: absolute;border-left: 1px solid gray;box-sizing: border-box;top: 0;bottom: 0;left: 50%;z-index: 0;}#sk-container-id-1 div.sk-serial {display: flex;flex-direction: column;align-items: center;background-color: white;padding-right: 0.2em;padding-left: 0.2em;position: relative;}#sk-container-id-1 div.sk-item {position: relative;z-index: 1;}#sk-container-id-1 div.sk-parallel {display: flex;align-items: stretch;justify-content: center;background-color: white;position: relative;}#sk-container-id-1 div.sk-item::before, #sk-container-id-1 div.sk-parallel-item::before {content: \"\";position: absolute;border-left: 1px solid gray;box-sizing: border-box;top: 0;bottom: 0;left: 50%;z-index: -1;}#sk-container-id-1 div.sk-parallel-item {display: flex;flex-direction: column;z-index: 1;position: relative;background-color: white;}#sk-container-id-1 div.sk-parallel-item:first-child::after {align-self: flex-end;width: 50%;}#sk-container-id-1 div.sk-parallel-item:last-child::after {align-self: flex-start;width: 50%;}#sk-container-id-1 div.sk-parallel-item:only-child::after {width: 0;}#sk-container-id-1 div.sk-dashed-wrapped {border: 1px dashed gray;margin: 0 0.4em 0.5em 0.4em;box-sizing: border-box;padding-bottom: 0.4em;background-color: white;}#sk-container-id-1 div.sk-label label {font-family: monospace;font-weight: bold;display: inline-block;line-height: 1.2em;}#sk-container-id-1 div.sk-label-container {text-align: center;}#sk-container-id-1 div.sk-container {/* jupyter's `normalize.less` sets `[hidden] { display: none; }` but bootstrap.min.css set `[hidden] { display: none !important; }` so we also need the `!important` here to be able to override the default hidden behavior on the sphinx rendered scikit-learn.org. See: https://github.com/scikit-learn/scikit-learn/issues/21755 */display: inline-block !important;position: relative;}#sk-container-id-1 div.sk-text-repr-fallback {display: none;}</style><div id=\"sk-container-id-1\" class=\"sk-top-container\"><div class=\"sk-text-repr-fallback\"><pre>KNeighborsClassifier(n_neighbors=3)</pre><b>In a Jupyter environment, please rerun this cell to show the HTML representation or trust the notebook. <br />On GitHub, the HTML representation is unable to render, please try loading this page with nbviewer.org.</b></div><div class=\"sk-container\" hidden><div class=\"sk-item\"><div class=\"sk-estimator sk-toggleable\"><input class=\"sk-toggleable__control sk-hidden--visually\" id=\"sk-estimator-id-1\" type=\"checkbox\" checked><label for=\"sk-estimator-id-1\" class=\"sk-toggleable__label sk-toggleable__label-arrow\">KNeighborsClassifier</label><div class=\"sk-toggleable__content\"><pre>KNeighborsClassifier(n_neighbors=3)</pre></div></div></div></div></div>"
      ],
      "text/plain": [
       "KNeighborsClassifier(n_neighbors=3)"
      ]
     },
     "execution_count": 41,
     "metadata": {},
     "output_type": "execute_result"
    }
   ],
   "source": [
    "knn.fit(X_train, y_train)"
   ]
  },
  {
   "cell_type": "code",
   "execution_count": 43,
   "metadata": {
    "executionInfo": {
     "elapsed": 23,
     "status": "ok",
     "timestamp": 1678375331069,
     "user": {
      "displayName": "Lavanya Vijayan",
      "userId": "09394087000910120547"
     },
     "user_tz": 480
    },
    "id": "cVWmJlNx8SGK"
   },
   "outputs": [],
   "source": [
    "preds_train = knn.predict(X_train)"
   ]
  },
  {
   "cell_type": "code",
   "execution_count": 45,
   "metadata": {
    "colab": {
     "base_uri": "https://localhost:8080/"
    },
    "executionInfo": {
     "elapsed": 23,
     "status": "ok",
     "timestamp": 1678375331070,
     "user": {
      "displayName": "Lavanya Vijayan",
      "userId": "09394087000910120547"
     },
     "user_tz": 480
    },
    "id": "P3AkKoMA8TZ_",
    "outputId": "68eb090a-0476-4cb2-dfe4-aec109e81eb0"
   },
   "outputs": [
    {
     "data": {
      "text/plain": [
       "0.864406779661017"
      ]
     },
     "execution_count": 45,
     "metadata": {},
     "output_type": "execute_result"
    }
   ],
   "source": [
    "knn.score(X_train, y_train)"
   ]
  },
  {
   "cell_type": "code",
   "execution_count": 47,
   "metadata": {
    "executionInfo": {
     "elapsed": 22,
     "status": "ok",
     "timestamp": 1678375331070,
     "user": {
      "displayName": "Lavanya Vijayan",
      "userId": "09394087000910120547"
     },
     "user_tz": 480
    },
    "id": "FVTYAwZV8U2z"
   },
   "outputs": [],
   "source": [
    "preds_test = knn.predict(X_test)"
   ]
  },
  {
   "cell_type": "code",
   "execution_count": 49,
   "metadata": {
    "colab": {
     "base_uri": "https://localhost:8080/"
    },
    "executionInfo": {
     "elapsed": 21,
     "status": "ok",
     "timestamp": 1678375331070,
     "user": {
      "displayName": "Lavanya Vijayan",
      "userId": "09394087000910120547"
     },
     "user_tz": 480
    },
    "id": "XOCiLeM98Whh",
    "outputId": "2e80ab0d-4692-4400-a849-6885a6316130"
   },
   "outputs": [
    {
     "data": {
      "text/plain": [
       "array([1, 0, 0, 0, 0, 0, 0, 0, 0, 0, 0, 0, 1, 0, 0, 0, 0, 0, 0, 1, 0, 1,\n",
       "       0, 0, 0, 0, 0, 1, 0, 0, 0, 0, 0, 0, 0, 1, 0, 0, 0, 0])"
      ]
     },
     "execution_count": 49,
     "metadata": {},
     "output_type": "execute_result"
    }
   ],
   "source": [
    "preds_test"
   ]
  },
  {
   "cell_type": "code",
   "execution_count": 51,
   "metadata": {
    "colab": {
     "base_uri": "https://localhost:8080/"
    },
    "executionInfo": {
     "elapsed": 21,
     "status": "ok",
     "timestamp": 1678375331071,
     "user": {
      "displayName": "Lavanya Vijayan",
      "userId": "09394087000910120547"
     },
     "user_tz": 480
    },
    "id": "UHp1snHi8YET",
    "outputId": "832e86f0-fca6-4a09-9c69-609ea479c85c"
   },
   "outputs": [
    {
     "data": {
      "text/plain": [
       "7      1\n",
       "44     0\n",
       "113    0\n",
       "120    0\n",
       "63     0\n",
       "122    0\n",
       "121    0\n",
       "139    0\n",
       "109    0\n",
       "92     0\n",
       "24     1\n",
       "141    0\n",
       "26     1\n",
       "60     0\n",
       "80     0\n",
       "97     0\n",
       "129    0\n",
       "98     0\n",
       "142    0\n",
       "56     0\n",
       "45     0\n",
       "33     1\n",
       "59     0\n",
       "8      1\n",
       "40     1\n",
       "37     1\n",
       "101    0\n",
       "19     1\n",
       "144    0\n",
       "108    0\n",
       "51     0\n",
       "54     0\n",
       "16     1\n",
       "130    0\n",
       "134    0\n",
       "22     1\n",
       "93     0\n",
       "66     0\n",
       "112    0\n",
       "94     0\n",
       "Name: Class, dtype: int64"
      ]
     },
     "execution_count": 51,
     "metadata": {},
     "output_type": "execute_result"
    }
   ],
   "source": [
    "y_test"
   ]
  },
  {
   "cell_type": "code",
   "execution_count": 53,
   "metadata": {
    "colab": {
     "base_uri": "https://localhost:8080/"
    },
    "executionInfo": {
     "elapsed": 19,
     "status": "ok",
     "timestamp": 1678375331071,
     "user": {
      "displayName": "Lavanya Vijayan",
      "userId": "09394087000910120547"
     },
     "user_tz": 480
    },
    "id": "BAMHTNBV8Zp5",
    "outputId": "86b78311-9167-4f24-ac2b-8003aca59428"
   },
   "outputs": [
    {
     "data": {
      "text/plain": [
       "0.85"
      ]
     },
     "execution_count": 53,
     "metadata": {},
     "output_type": "execute_result"
    }
   ],
   "source": [
    "knn.score(X_test, y_test)"
   ]
  },
  {
   "cell_type": "code",
   "execution_count": null,
   "metadata": {},
   "outputs": [],
   "source": []
  }
 ],
 "metadata": {
  "colab": {
   "authorship_tag": "ABX9TyNbbwOnfYRfg3kMVa1vry0w",
   "provenance": []
  },
  "kernelspec": {
   "display_name": "Python 3 (ipykernel)",
   "language": "python",
   "name": "python3"
  },
  "language_info": {
   "codemirror_mode": {
    "name": "ipython",
    "version": 3
   },
   "file_extension": ".py",
   "mimetype": "text/x-python",
   "name": "python",
   "nbconvert_exporter": "python",
   "pygments_lexer": "ipython3",
   "version": "3.11.5"
  }
 },
 "nbformat": 4,
 "nbformat_minor": 4
}
