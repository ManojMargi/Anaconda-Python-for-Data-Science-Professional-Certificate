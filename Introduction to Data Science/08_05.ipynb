{
 "cells": [
  {
   "cell_type": "code",
   "execution_count": 1,
   "metadata": {
    "id": "_H2qr4cEri4k"
   },
   "outputs": [],
   "source": [
    "import pandas as pd\n",
    "import matplotlib.pyplot as plt\n",
    "import seaborn as sns\n",
    "import numpy as np"
   ]
  },
  {
   "cell_type": "code",
   "execution_count": 3,
   "metadata": {
    "id": "E4vBuHw0rm5B"
   },
   "outputs": [],
   "source": [
    "avocado_info = pd.read_csv(\"avocado_info.csv\")"
   ]
  },
  {
   "cell_type": "code",
   "execution_count": 5,
   "metadata": {
    "colab": {
     "base_uri": "https://localhost:8080/",
     "height": 206
    },
    "executionInfo": {
     "elapsed": 278,
     "status": "ok",
     "timestamp": 1678320261949,
     "user": {
      "displayName": "Lavanya Vijayan",
      "userId": "09394087000910120547"
     },
     "user_tz": 480
    },
    "id": "c70ZQ0yprnwA",
    "outputId": "d6546327-9a49-45e7-c346-1cba9ecd7951"
   },
   "outputs": [
    {
     "data": {
      "text/html": [
       "<div>\n",
       "<style scoped>\n",
       "    .dataframe tbody tr th:only-of-type {\n",
       "        vertical-align: middle;\n",
       "    }\n",
       "\n",
       "    .dataframe tbody tr th {\n",
       "        vertical-align: top;\n",
       "    }\n",
       "\n",
       "    .dataframe thead th {\n",
       "        text-align: right;\n",
       "    }\n",
       "</style>\n",
       "<table border=\"1\" class=\"dataframe\">\n",
       "  <thead>\n",
       "    <tr style=\"text-align: right;\">\n",
       "      <th></th>\n",
       "      <th>Growth Duration</th>\n",
       "      <th>Fertilizer</th>\n",
       "    </tr>\n",
       "  </thead>\n",
       "  <tbody>\n",
       "    <tr>\n",
       "      <th>0</th>\n",
       "      <td>98</td>\n",
       "      <td>True</td>\n",
       "    </tr>\n",
       "    <tr>\n",
       "      <th>1</th>\n",
       "      <td>108</td>\n",
       "      <td>False</td>\n",
       "    </tr>\n",
       "    <tr>\n",
       "      <th>2</th>\n",
       "      <td>129</td>\n",
       "      <td>False</td>\n",
       "    </tr>\n",
       "    <tr>\n",
       "      <th>3</th>\n",
       "      <td>116</td>\n",
       "      <td>False</td>\n",
       "    </tr>\n",
       "    <tr>\n",
       "      <th>4</th>\n",
       "      <td>111</td>\n",
       "      <td>False</td>\n",
       "    </tr>\n",
       "  </tbody>\n",
       "</table>\n",
       "</div>"
      ],
      "text/plain": [
       "   Growth Duration  Fertilizer\n",
       "0               98        True\n",
       "1              108       False\n",
       "2              129       False\n",
       "3              116       False\n",
       "4              111       False"
      ]
     },
     "execution_count": 5,
     "metadata": {},
     "output_type": "execute_result"
    }
   ],
   "source": [
    "avocado_info.head()"
   ]
  },
  {
   "cell_type": "code",
   "execution_count": 19,
   "metadata": {
    "executionInfo": {
     "elapsed": 192,
     "status": "ok",
     "timestamp": 1678321644484,
     "user": {
      "displayName": "Lavanya Vijayan",
      "userId": "09394087000910120547"
     },
     "user_tz": 480
    },
    "id": "3G3X0ECArosb"
   },
   "outputs": [
    {
     "data": {
      "text/plain": [
       "0        98\n",
       "10      107\n",
       "11      105\n",
       "12      117\n",
       "13      112\n",
       "       ... \n",
       "1160     96\n",
       "1165    152\n",
       "1166     91\n",
       "1167    106\n",
       "1170    136\n",
       "Name: Growth Duration, Length: 459, dtype: int64"
      ]
     },
     "execution_count": 19,
     "metadata": {},
     "output_type": "execute_result"
    }
   ],
   "source": [
    "fertilized = avocado_info.loc[avocado_info[\"Fertilizer\"] == True, \"Growth Duration\"]\n",
    "\n",
    "not_fertilized = avocado_info.loc[avocado_info[\"Fertilizer\"] == False, \"Growth Duration\"]\n",
    "fertilized"
   ]
  },
  {
   "cell_type": "code",
   "execution_count": 9,
   "metadata": {
    "colab": {
     "base_uri": "https://localhost:8080/"
    },
    "executionInfo": {
     "elapsed": 2,
     "status": "ok",
     "timestamp": 1678321649215,
     "user": {
      "displayName": "Lavanya Vijayan",
      "userId": "09394087000910120547"
     },
     "user_tz": 480
    },
    "id": "YsXZmX_GrrmV",
    "outputId": "83da5677-679c-4fa3-b3d0-a32c974bf806"
   },
   "outputs": [
    {
     "data": {
      "text/plain": [
       "array([131, 141, 104, 122, 117, 144, 124, 120,  99, 117, 130, 131,  75,\n",
       "       115, 115,  71, 114, 125, 101, 117, 144, 130, 146, 128,  90, 103,\n",
       "       106,  81, 128, 115, 117, 153, 117, 117, 125, 121, 117, 105,  97,\n",
       "       103, 114,  96,  82,  93, 144, 103, 134, 103,  82, 117, 127,  92,\n",
       "       106, 127,  95, 108, 115, 121, 102, 114, 127, 133, 122, 130, 110,\n",
       "        98, 116, 123, 120,  84, 122, 101, 109, 109, 103, 119, 119,  95,\n",
       "       108, 117, 123,  88, 129, 104, 128, 117,  96, 154, 124, 132, 123,\n",
       "       130, 117,  98,  99, 111,  75, 100, 115,  99, 108, 100, 130,  95,\n",
       "        93, 108, 130, 115,  88, 140, 141, 138, 117, 140, 124, 107, 102,\n",
       "        97, 115, 130, 131, 126, 131, 102, 123, 133, 110, 129, 109, 150,\n",
       "       103, 124, 117, 124, 142, 127, 117,  95, 131,  87,  91, 136, 113,\n",
       "       137, 121, 123, 130, 103,  87, 101, 119, 148, 124, 133, 122, 130,\n",
       "       128, 103, 150, 137, 115, 109,  97,  91,  85, 129,  91, 108, 119,\n",
       "       106, 105,  88, 130, 142, 130, 127, 115, 128,  91, 126, 130,  95,\n",
       "       103, 104,  81, 123,  95, 113, 127,  98, 106,  98, 128, 118, 126,\n",
       "       109,  71,  95, 128,  77, 105, 117, 115, 119, 155, 141, 101, 113,\n",
       "        98,  95, 115, 115, 133, 116, 124, 103, 119, 132,  68, 120, 124,\n",
       "       136, 129,  95, 125, 105,  97, 102, 122,  96,  95, 128, 123, 115,\n",
       "        97,  87,  91, 123, 107,  91, 139, 136, 105,  95, 114, 115, 101,\n",
       "        91, 109, 115, 138, 101, 117,  88, 104, 127, 100, 103, 124, 104,\n",
       "       119, 113, 119, 154, 143, 114, 124,  87,  65,  75,  96, 103, 118,\n",
       "       138, 104,  97,  96, 144,  87, 121, 108, 117, 105,  99, 125,  88,\n",
       "       105, 125, 145, 110, 133,  90, 114, 119, 109, 131, 106, 118, 107,\n",
       "       123, 120, 140, 112, 122, 124, 117, 123, 109, 108, 102, 116, 130,\n",
       "       103, 123,  77, 112, 111,  84, 134,  86, 131, 145,  95, 115, 114,\n",
       "        91, 137, 110, 107,  97, 102, 108, 108, 126, 120, 143, 123, 104,\n",
       "        80, 140, 128, 107, 100, 160, 101, 140, 117, 144, 144, 115, 111,\n",
       "       144, 119, 100, 146,  98,  97,  85, 116, 131, 120,  94, 143, 117,\n",
       "       144, 119, 129, 122,  96, 104,  81, 152, 121, 100, 116, 129, 123,\n",
       "        71, 119, 154, 129,  91, 117, 110, 103,  58, 118, 154,  87,  97,\n",
       "       114, 108, 117,  77, 104, 115, 102, 139, 116, 115,  97, 103, 123,\n",
       "       114, 143, 103, 110, 109, 125, 115, 122, 114, 117, 125, 114, 111,\n",
       "       144,  97, 109, 100, 150,  96,  95, 126, 101,  77,  93,  99,  96,\n",
       "       100, 146, 126, 122,  99, 134, 136, 154, 127, 131, 136, 100, 122,\n",
       "       129, 128, 143, 107, 120, 132, 125, 129, 129, 101,  86, 107, 140,\n",
       "       146, 127, 127, 129])"
      ]
     },
     "execution_count": 9,
     "metadata": {},
     "output_type": "execute_result"
    }
   ],
   "source": [
    "np.random.choice(fertilized, size = len(fertilized))"
   ]
  },
  {
   "cell_type": "code",
   "execution_count": 23,
   "metadata": {
    "colab": {
     "base_uri": "https://localhost:8080/"
    },
    "executionInfo": {
     "elapsed": 197,
     "status": "ok",
     "timestamp": 1678321663649,
     "user": {
      "displayName": "Lavanya Vijayan",
      "userId": "09394087000910120547"
     },
     "user_tz": 480
    },
    "id": "5oigyooKxCS1",
    "outputId": "96a90e28-da3a-4ba2-de76-1d79ca683b5b"
   },
   "outputs": [
    {
     "data": {
      "text/plain": [
       "array([125, 148, 146, 137, 129, 123, 163, 128, 132, 135, 155, 135, 123,\n",
       "       135, 135, 149, 132, 119, 109, 133, 105,  97, 104, 129, 140, 113,\n",
       "       129, 130, 129, 133,  97, 119, 146, 100, 102, 129, 130, 128,  95,\n",
       "       127,  72, 137, 124, 129, 160, 131,  99, 138, 124,  87, 155, 114,\n",
       "       117,  88, 128, 166, 160, 103, 135, 116, 138, 118, 130, 110, 114,\n",
       "       122,  90,  97, 114, 140,  98, 125, 120, 132,  87, 111,  91, 132,\n",
       "       126, 110, 112, 102, 124, 119, 127, 136,  85, 120, 123, 127, 118,\n",
       "       112, 100, 130, 129, 146, 131, 134, 122, 148, 115, 136, 123, 118,\n",
       "       155, 126, 125, 124, 123,  73, 103, 132,  95, 128, 139, 109, 130,\n",
       "       143, 174, 124, 137, 114, 130,  89,  96, 127, 126, 111, 116, 105,\n",
       "       105, 134, 116, 138, 112, 116, 133,  91, 139,  71, 123,  89, 125,\n",
       "       127, 125, 138,  65, 139, 113, 113, 122, 164, 124, 107, 133, 113,\n",
       "       110, 115, 123, 122, 124, 112, 140, 122, 124, 123, 128, 134,  78,\n",
       "       133, 121, 139, 144, 163, 102, 117, 127, 123, 130, 127, 146, 101,\n",
       "       126, 122, 121, 142, 141, 116,  95, 104, 155, 133, 117,  99, 110,\n",
       "       119, 132, 115, 120, 146, 116, 111, 125, 118, 141, 133, 110, 127,\n",
       "       125, 128, 127, 140, 114, 132, 138, 138, 104, 111, 137, 142, 107,\n",
       "       119,  98, 117, 123, 122, 130, 136, 138, 123, 131,  99, 112, 120,\n",
       "       132, 167, 122, 134, 144, 127, 140, 122, 117, 125,  55, 132, 129,\n",
       "       135, 139, 139,  95, 110, 126, 117, 122,  97,  98, 139, 115, 110,\n",
       "       116, 131, 134, 117, 128, 137, 121, 110, 105,  89, 144, 136, 104,\n",
       "       134, 134, 126, 125, 120, 114, 122, 122,  85, 122, 108, 126, 131,\n",
       "       122, 104, 113, 106, 113,  80, 131, 110, 112,  79, 123, 146, 150,\n",
       "       134, 111, 132, 123,  98, 113, 134, 100, 117, 140, 122, 113, 139,\n",
       "       150, 111, 126, 134, 122, 138, 127, 124, 165, 128, 120, 165, 117,\n",
       "       106, 114, 127, 116, 113, 112, 101, 115,  79, 105, 118,  89, 115,\n",
       "       110, 135, 129, 133, 122, 120, 120, 129, 119, 153, 114, 128, 125,\n",
       "       135, 149, 122, 138, 145, 128, 120, 124, 134, 108,  97, 137, 120,\n",
       "       132, 133,  99, 138, 120, 116, 108, 110, 115, 133, 112, 143, 110,\n",
       "       147, 136, 132, 112, 125, 128, 121, 110, 128, 115, 136, 128, 118,\n",
       "       117, 129, 146, 127, 106, 124, 131, 118, 129, 118, 165, 124, 111,\n",
       "       124, 122, 128, 115, 126,  97, 117, 122, 126, 113, 117, 112, 112,\n",
       "        85, 105, 110, 114, 124, 116, 110, 116, 130, 127, 139, 136, 136,\n",
       "       114, 110, 125, 119, 122, 138, 133, 133, 140, 127, 107, 123, 133,\n",
       "       139, 174, 138, 115, 117,  90, 115, 105, 105, 129, 109, 109, 105,\n",
       "       131, 129, 118, 119, 130, 129, 126, 170, 119,  81, 131, 125, 128,\n",
       "       119, 110, 128, 117, 120, 141, 118, 111, 107, 110, 125, 110,  72,\n",
       "       135, 106, 120,  85, 114, 124,  99, 134, 105, 158, 127, 112, 139,\n",
       "       139, 111, 110, 118, 155, 141, 106, 130, 132, 139, 119, 125, 121,\n",
       "       114, 141, 118, 134, 112, 115, 120,  55, 157, 120, 118, 100,  89,\n",
       "       115, 154, 121, 110, 135, 120, 123, 139, 120, 112, 114, 101, 117,\n",
       "       119, 110, 121, 133, 122, 139, 100, 127, 138, 109, 124, 174, 158,\n",
       "       145, 155, 116, 141, 139, 125, 112, 129, 134, 120, 120, 110, 120,\n",
       "       143, 127, 150, 122, 130, 120, 128, 114, 143, 118, 103, 126, 135,\n",
       "       117, 106, 110, 106, 155, 142, 140, 126, 109, 141, 128, 116, 163,\n",
       "       123, 111, 137, 120, 152, 123, 125, 107, 128, 124, 131, 102, 119,\n",
       "       129, 127, 154, 115, 120, 101,  85, 117, 111, 118, 100, 121, 133,\n",
       "       132, 119, 132, 138, 130, 121, 100, 105, 131, 118, 117, 149, 139,\n",
       "       152, 118, 107, 101, 110, 117, 121, 114, 150, 110, 127, 117, 113,\n",
       "       117, 137,  81, 138, 101, 135, 136, 112, 116, 108, 126, 133, 131,\n",
       "       117,  98, 117, 120, 122, 129, 113, 140, 109, 127, 126, 125, 105,\n",
       "       111, 107, 108, 130, 124, 164, 110, 138,  99, 143, 150, 127, 120,\n",
       "       146, 137, 130, 134, 121, 131, 123, 126, 138, 160, 105, 130, 143,\n",
       "       121, 136, 132, 116, 146,  99, 114, 124, 110, 118, 107, 123, 113,\n",
       "       134,  65, 118, 129, 164, 135, 136, 117, 118, 138,  84, 123,  97])"
      ]
     },
     "execution_count": 23,
     "metadata": {},
     "output_type": "execute_result"
    }
   ],
   "source": [
    "np.random.choice(not_fertilized, size = len(not_fertilized))"
   ]
  },
  {
   "cell_type": "code",
   "execution_count": 27,
   "metadata": {
    "executionInfo": {
     "elapsed": 170,
     "status": "ok",
     "timestamp": 1678321715662,
     "user": {
      "displayName": "Lavanya Vijayan",
      "userId": "09394087000910120547"
     },
     "user_tz": 480
    },
    "id": "aznsDvgqtwVh"
   },
   "outputs": [],
   "source": [
    "def resample(orig_sample):\n",
    "      return np.random.choice(orig_sample, size = len(orig_sample))"
   ]
  },
  {
   "cell_type": "code",
   "execution_count": 29,
   "metadata": {
    "executionInfo": {
     "elapsed": 152,
     "status": "ok",
     "timestamp": 1678321766588,
     "user": {
      "displayName": "Lavanya Vijayan",
      "userId": "09394087000910120547"
     },
     "user_tz": 480
    },
    "id": "BM70rkqdt51e"
   },
   "outputs": [],
   "source": [
    "def bootstrap(orig_sample, reps):\n",
    "    means = np.array([])\n",
    "    for i in range(reps):\n",
    "        new_sample = resample(orig_sample)\n",
    "        new_mean = np.mean(new_sample)\n",
    "        means = np. append(means, new_mean)\n",
    "    return means"
   ]
  },
  {
   "cell_type": "code",
   "execution_count": 31,
   "metadata": {
    "executionInfo": {
     "elapsed": 1362,
     "status": "ok",
     "timestamp": 1678321742616,
     "user": {
      "displayName": "Lavanya Vijayan",
      "userId": "09394087000910120547"
     },
     "user_tz": 480
    },
    "id": "Tjg403CIuNmb"
   },
   "outputs": [],
   "source": [
    "fertilized_means = bootstrap(fertilized, 10000)\n",
    "\n",
    "not_fertilized_means = bootstrap(not_fertilized, 10000)\n",
    "\n",
    "estimates = fertilized_means - not_fertilized_means"
   ]
  },
  {
   "cell_type": "code",
   "execution_count": 32,
   "metadata": {
    "colab": {
     "base_uri": "https://localhost:8080/"
    },
    "executionInfo": {
     "elapsed": 151,
     "status": "ok",
     "timestamp": 1678321743758,
     "user": {
      "displayName": "Lavanya Vijayan",
      "userId": "09394087000910120547"
     },
     "user_tz": 480
    },
    "id": "yoFwzoO-uh7e",
    "outputId": "44a2ffc0-afa6-4626-bac5-0ec57e1e1862"
   },
   "outputs": [
    {
     "data": {
      "text/plain": [
       "array([-10.81459238,  -8.6127611 ,  -8.7781739 , ...,  -8.22725902,\n",
       "        -9.56036077,  -9.69363926])"
      ]
     },
     "execution_count": 32,
     "metadata": {},
     "output_type": "execute_result"
    }
   ],
   "source": [
    "estimates"
   ]
  },
  {
   "cell_type": "code",
   "execution_count": 35,
   "metadata": {
    "colab": {
     "base_uri": "https://localhost:8080/",
     "height": 265
    },
    "executionInfo": {
     "elapsed": 2093,
     "status": "ok",
     "timestamp": 1678321797441,
     "user": {
      "displayName": "Lavanya Vijayan",
      "userId": "09394087000910120547"
     },
     "user_tz": 480
    },
    "id": "gOFxd3kkujgO",
    "outputId": "dc393080-824b-4dfb-c30e-b1d8cc3b819d"
   },
   "outputs": [
    {
     "data": {
      "image/png": "[encoded data removed]",
      "text/plain": [
       "<Figure size 640x480 with 1 Axes>"
      ]
     },
     "metadata": {},
     "output_type": "display_data"
    }
   ],
   "source": [
    "sns.histplot(estimates)\n",
    "plt.show()"
   ]
  },
  {
   "cell_type": "code",
   "execution_count": 37,
   "metadata": {
    "colab": {
     "base_uri": "https://localhost:8080/"
    },
    "executionInfo": {
     "elapsed": 156,
     "status": "ok",
     "timestamp": 1678321801960,
     "user": {
      "displayName": "Lavanya Vijayan",
      "userId": "09394087000910120547"
     },
     "user_tz": 480
    },
    "id": "gFbIc4yPut9a",
    "outputId": "1169ca63-5f66-4035-9f7f-d9d9e6f3fa3f"
   },
   "outputs": [
    {
     "data": {
      "text/plain": [
       "(-11.38712966771791, -7.151428767311112)"
      ]
     },
     "execution_count": 37,
     "metadata": {},
     "output_type": "execute_result"
    }
   ],
   "source": [
    "(np.percentile(estimates, 2.5), np.percentile(estimates, 97.5))"
   ]
  },
  {
   "cell_type": "code",
   "execution_count": null,
   "metadata": {
    "id": "Jdpjglifxlim"
   },
   "outputs": [],
   "source": []
  }
 ],
 "metadata": {
  "colab": {
   "provenance": []
  },
  "kernelspec": {
   "display_name": "Python 3 (ipykernel)",
   "language": "python",
   "name": "python3"
  },
  "language_info": {
   "codemirror_mode": {
    "name": "ipython",
    "version": 3
   },
   "file_extension": ".py",
   "mimetype": "text/x-python",
   "name": "python",
   "nbconvert_exporter": "python",
   "pygments_lexer": "ipython3",
   "version": "3.11.5"
  }
 },
 "nbformat": 4,
 "nbformat_minor": 4
}
